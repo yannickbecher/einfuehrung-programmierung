{
 "cells": [
  {
   "metadata": {},
   "cell_type": "markdown",
   "source": "__Aufgabe 1__ (Berechnung und Speichern von Primzahlen)<br/>",
   "id": "20ba36a17444efdf"
  },
  {
   "metadata": {},
   "cell_type": "markdown",
   "source": [
    "1a) Schreiben Sie eine Funktion `is_prime(x)`, die bestimmt, ob ein gegebener Parameter vom Typ `Int` eine\n",
    "Primzahl ist oder nicht. Der Rückgabewert ist entsprechend `True` oder `False`."
   ],
   "id": "93380af58ee445eb"
  },
  {
   "cell_type": "code",
   "id": "initial_id",
   "metadata": {
    "collapsed": true,
    "ExecuteTime": {
     "end_time": "2025-01-23T12:29:57.740423Z",
     "start_time": "2025-01-23T12:29:57.716003Z"
    }
   },
   "source": [
    "import math\n",
    "\n",
    "def is_prime(number: int) -> bool:\n",
    "    if number == 2:\n",
    "        return True\n",
    "\n",
    "    if number <= 1 or number % 2 == 0:\n",
    "        return False\n",
    "\n",
    "    for i in range(3, int(math.sqrt(number)) + 1, 2):\n",
    "        if number % i == 0:\n",
    "            return False\n",
    "    return True\n",
    "\n",
    "is_prime(47)"
   ],
   "outputs": [
    {
     "data": {
      "text/plain": [
       "True"
      ]
     },
     "execution_count": 2,
     "metadata": {},
     "output_type": "execute_result"
    }
   ],
   "execution_count": 2
  },
  {
   "metadata": {},
   "cell_type": "markdown",
   "source": [
    "1b) Schreiben Sie eine Funktion `primes_up_to_n(n)`, die die in der vorherigen Aufgabe implementierte\n",
    "Funktion `is_prime` benutzt, um alle Primzahlen zwischen $0$ und $n$ zu berechnen. Speichern Sie außerdem alle\n",
    "gefundenen Primzahlen mittels Listenkomprehension in einer Liste und benutzen Sie diese Liste\n",
    "als Rückgabewert der Funktion."
   ],
   "id": "e0ff2498dbe38786"
  },
  {
   "metadata": {
    "ExecuteTime": {
     "end_time": "2025-01-23T08:52:46.977365Z",
     "start_time": "2025-01-23T08:52:46.965412Z"
    }
   },
   "cell_type": "code",
   "source": [
    "def primes_up_to_n(n: int) -> list[int]:\n",
    "    primes: list[int] = []\n",
    "    for i in range(2, n + 1):\n",
    "        if is_prime(i):\n",
    "            primes.append(i)\n",
    "    return primes\n",
    "\n",
    "primes_up_to_n(50)"
   ],
   "id": "59a43b943ed8f6e1",
   "outputs": [
    {
     "data": {
      "text/plain": [
       "[2, 3, 5, 7, 11, 13, 17, 19, 23, 29, 31, 37, 41, 43, 47]"
      ]
     },
     "execution_count": 33,
     "metadata": {},
     "output_type": "execute_result"
    }
   ],
   "execution_count": 33
  },
  {
   "metadata": {},
   "cell_type": "markdown",
   "source": [
    "1c) Schreiben Sie eine einfache Funktion `has_number(x, lst)` zum Suchen einer bestimmten Zahl x in der\n",
    "Liste lst mit einer `for`-Schleife. Wenn die Liste die gesuchte Zahl enthält, dann geben Sie `True` zurück,\n",
    "andernfalls `False`.\n",
    "Benutzen Sie dazu eine `for-else`-Schleife. Erläutern Sie in eigenen Worten, welchen Vorteil diese Variante\n",
    "im Gegensatz zu klassischen `for`-Schleifen bringen kann."
   ],
   "id": "a0aaeb8437f7ab4"
  },
  {
   "metadata": {
    "ExecuteTime": {
     "end_time": "2025-01-23T08:52:47.053534Z",
     "start_time": "2025-01-23T08:52:47.040341Z"
    }
   },
   "cell_type": "code",
   "source": [
    "def has_number(x: int, lst: list[int]) -> bool:\n",
    "    return any(i == x for i in lst)\n",
    "\n",
    "has_number(47, primes_up_to_n(50))"
   ],
   "id": "39ca2e16b294ab4c",
   "outputs": [
    {
     "data": {
      "text/plain": [
       "True"
      ]
     },
     "execution_count": 34,
     "metadata": {},
     "output_type": "execute_result"
    }
   ],
   "execution_count": 34
  },
  {
   "metadata": {},
   "cell_type": "markdown",
   "source": "---",
   "id": "6a09a9fcd4ca7490"
  },
  {
   "metadata": {},
   "cell_type": "markdown",
   "source": [
    "__Aufgabe 2__ (Listen und slicing)<br/>\n",
    "In dieser Aufgabe werden verschiedene Listenoperationen, insbesondere `slicing`, ausprobiert. Für alle Teilaufgaben\n",
    "ist dafür die Liste `zahlen = [1, 2, 3, 4, 5, 6, 7, 8, 9]` gegeben."
   ],
   "id": "cded366d1b79a46a"
  },
  {
   "metadata": {
    "ExecuteTime": {
     "end_time": "2025-01-23T08:52:47.075991Z",
     "start_time": "2025-01-23T08:52:47.069929Z"
    }
   },
   "cell_type": "code",
   "source": "zahlen: list[int] = [1, 2, 3, 4, 5, 6, 7, 8, 9]",
   "id": "b8904255b556d16f",
   "outputs": [],
   "execution_count": 35
  },
  {
   "metadata": {},
   "cell_type": "markdown",
   "source": [
    "2a) Geben Sie über Index-Zugriffe die folgenden Positionen der Liste aus:\n",
    "- Das erste Element.\n",
    "- Die letzten Element.\n",
    "- Das ”mittlere“ Element (wenn es kein echtes mittleres Element gibt, ist das links von der Mitte gemeint)"
   ],
   "id": "2f1772c8cb4adcf4"
  },
  {
   "metadata": {
    "ExecuteTime": {
     "end_time": "2025-01-23T08:52:47.128109Z",
     "start_time": "2025-01-23T08:52:47.120238Z"
    }
   },
   "cell_type": "code",
   "source": [
    "print(zahlen[0])                        # erstes Element\n",
    "print(zahlen[-1])                       # letztes Element\n",
    "print(zahlen[int(len(zahlen)/2)])       # mittleres Element"
   ],
   "id": "9f3b334b692e1966",
   "outputs": [
    {
     "name": "stdout",
     "output_type": "stream",
     "text": [
      "1\n",
      "9\n",
      "5\n"
     ]
    }
   ],
   "execution_count": 36
  },
  {
   "metadata": {},
   "cell_type": "markdown",
   "source": [
    "2b) Verwenden Sie slicing, um die folgenden Positionen der Liste auszugeben:\n",
    "- Die ersten drei Elemente.\n",
    "- Die letzten drei Elemente.\n",
    "- Jedes zweite Element, beginnend mit dem Ersten.\n",
    "- Jedes zweite Element, beginnend mit dem Zweiten.\n",
    "- Die Liste in umgekehrter Reihenfolge"
   ],
   "id": "cb28435863576b92"
  },
  {
   "metadata": {
    "ExecuteTime": {
     "end_time": "2025-01-23T08:52:47.175692Z",
     "start_time": "2025-01-23T08:52:47.163810Z"
    }
   },
   "cell_type": "code",
   "source": [
    "print(zahlen[:3])       # ersten drei Elemente\n",
    "print(zahlen[-3:])      # letzten drei Elemente\n",
    "print(zahlen[0::2])     # Jedes zweite Element beginnend mit erstem Element\n",
    "print(zahlen[1::2])     # Jedes zweite Element beginnend mit zweitem Element\n",
    "print(zahlen[::-1])     # umgekehrte Reihenfolge"
   ],
   "id": "65598c3d3a3df4ff",
   "outputs": [
    {
     "name": "stdout",
     "output_type": "stream",
     "text": [
      "[1, 2, 3]\n",
      "[7, 8, 9]\n",
      "[1, 3, 5, 7, 9]\n",
      "[2, 4, 6, 8]\n",
      "[9, 8, 7, 6, 5, 4, 3, 2, 1]\n"
     ]
    }
   ],
   "execution_count": 37
  },
  {
   "metadata": {},
   "cell_type": "markdown",
   "source": [
    "2c) Iterieren Sie mit Hilfe einer `for`-Schleife über alle Elemente der Liste und geben Sie die Elemente einzeln\n",
    "aus. Verwenden Sie dazu drei verschiedene Varianten der `for`-Schleife:\n",
    "- Über Index-basierte Zugriffe mit einer `range`. (Ausgabe über Index-Zugriff `print(zahlen[i])`)\n",
    "- Nur mit dem Keyword `in`. (Ausgabe des Werts direkt: `print(x)`)\n",
    "- Mit Hilfe von `enumerate`. (Ausgabe als Index und Wert: `print(\"{}: {}\".format(i, x))`)"
   ],
   "id": "dc8113ba39535fd5"
  },
  {
   "metadata": {
    "ExecuteTime": {
     "end_time": "2025-01-23T08:52:47.254086Z",
     "start_time": "2025-01-23T08:52:47.241070Z"
    }
   },
   "cell_type": "code",
   "source": [
    "for i in range(len(zahlen)):\n",
    "    print(zahlen[i], end=' ')\n",
    "\n",
    "print(\"\")\n",
    "\n",
    "for i in zahlen:\n",
    "    print(i, end=' ')\n",
    "\n",
    "print(\"\")\n",
    "\n",
    "for i, value in enumerate(zahlen):\n",
    "    print(f\"{i}: {value}\")"
   ],
   "id": "657b9171b3d0fa65",
   "outputs": [
    {
     "name": "stdout",
     "output_type": "stream",
     "text": [
      "1 2 3 4 5 6 7 8 9 \n",
      "1 2 3 4 5 6 7 8 9 \n",
      "0: 1\n",
      "1: 2\n",
      "2: 3\n",
      "3: 4\n",
      "4: 5\n",
      "5: 6\n",
      "6: 7\n",
      "7: 8\n",
      "8: 9\n"
     ]
    }
   ],
   "execution_count": 38
  },
  {
   "metadata": {},
   "cell_type": "markdown",
   "source": "---",
   "id": "e0f8abbd0e516408"
  },
  {
   "metadata": {},
   "cell_type": "markdown",
   "source": [
    "__Aufgabe 3__ (Wurzeltabelle)<br/>\n",
    "\n",
    "In dieser Aufgabe sollen Sie eine Tabelle zur schnellen Bestimmung der Quadratwurzel erstellen. Die Zellenwerte\n",
    "der Tabelle geben dabei die Quadratwurzel des Werts, der sich durch Konkatenation des Index der Zeile und der\n",
    "Reihe ergibt, an. Die Tabelle soll dabei wie folgt aussehen:\n",
    "\n",
    "\n",
    "Zum Beispiel ist der dritte Eintrag in der ersten Zeile $(1.4142)$ der Wert von $\\sqrt{02}$, der erste Wert in der\n",
    "letzten Zeile $(10.0000)$ ist der Wert von $\\sqrt{100}$."
   ],
   "id": "56bf862a857795d9"
  },
  {
   "metadata": {},
   "cell_type": "markdown",
   "source": [
    "3a) Erstellen Sie eine Funktion, die eine verschachtelte Liste mit den Wurzelwerten berechnet. Entsprechend der\n",
    "Tabelle oben, sollen in der ersten Zeile die Wurzelwerte der Zahlen $0$ bis $9$ stehen, in der zweiten Zeile die von\n",
    "$10$ bis $19$. Die Funktion soll einen Parameter für die obere Grenze der Anzahl der Zeilen entgegennehmen.\n",
    "Um die Wurzel einer Zahl zu berechnen, müssen Sie zunächst das Modul `math` mit der Anweisung `import\n",
    "math` importieren. Danach können Sie über `math.sqrt( )` die Wurzel einer beliebigen Zahl berechnen."
   ],
   "id": "75c453dd526c68b1"
  },
  {
   "metadata": {
    "ExecuteTime": {
     "end_time": "2025-01-23T08:56:26.310799Z",
     "start_time": "2025-01-23T08:56:26.295574Z"
    }
   },
   "cell_type": "code",
   "source": [
    "import math\n",
    "\n",
    "def create_wurzel_tabelle(max_row):\n",
    "    wurzel_tabelle = []\n",
    "\n",
    "    for row in range(max_row):\n",
    "        inner_list = []\n",
    "        for col in range(10):  # Assuming 10 columns (0-9)\n",
    "            index = f\"{row:02d}{col:02d}\"\n",
    "            wurzelwert = math.sqrt(int(index))\n",
    "            inner_list.append(f\"{wurzelwert:.4f}\")\n",
    "        wurzel_tabelle.append(inner_list)\n",
    "\n",
    "    return wurzel_tabelle\n",
    "\n",
    "# Example usage\n",
    "max_rows = 3\n",
    "result = create_wurzel_tabelle(max_rows)\n",
    "\n",
    "# Print the result\n",
    "for row in result:\n",
    "    print(row)"
   ],
   "id": "d2e2a341a660af04",
   "outputs": [
    {
     "name": "stdout",
     "output_type": "stream",
     "text": [
      "['0.0000', '1.0000', '1.4142', '1.7321', '2.0000', '2.2361', '2.4495', '2.6458', '2.8284', '3.0000']\n",
      "['10.0000', '10.0499', '10.0995', '10.1489', '10.1980', '10.2470', '10.2956', '10.3441', '10.3923', '10.4403']\n",
      "['14.1421', '14.1774', '14.2127', '14.2478', '14.2829', '14.3178', '14.3527', '14.3875', '14.4222', '14.4568']\n"
     ]
    }
   ],
   "execution_count": 39
  },
  {
   "metadata": {},
   "cell_type": "markdown",
   "source": [
    "3b) Verwenden Sie die Funktion, die Sie in Teilaufgabe a) entwickelt haben um die Tabelle wie oben angegeben\n",
    "auszugeben.\n",
    "\n",
    "Damit die Formatierung der Zellen stimmt, beachten Sie dazu die Dokumentation zu Formatstrings (https://docs.python.org/3/library/string.html#format-string-syntax) sowie die Beispiele zu `format` aus der Vorlesung. Um\n",
    "einzelne `print`-Befehle in einer Zeile zu kombinieren, können Sie den optionalen Parameter `end` verwenden, um keinen automatischen Zeilenumbruch einzufügen: `print(\"foo\", end=\"\")`."
   ],
   "id": "bc510a90582fc645"
  },
  {
   "metadata": {
    "ExecuteTime": {
     "end_time": "2025-01-23T08:52:47.312754Z",
     "start_time": "2025-01-23T08:52:47.306297Z"
    }
   },
   "cell_type": "code",
   "source": "",
   "id": "3f4031d596b36ef0",
   "outputs": [],
   "execution_count": null
  },
  {
   "metadata": {},
   "cell_type": "markdown",
   "source": [
    "3c) Implementieren Sie nun eine Funktion `d33pc0py`, die eine _Deep Copy_ von der verschachtelten Liste erstellt.\n",
    "Benutzen Sie dafür nicht die deepcopy-Funktion von Python selbst.\n",
    "Testen Sie die Funktion der `d33pc0py`-Funktion geeignet."
   ],
   "id": "7a15e1467986a074"
  },
  {
   "metadata": {
    "ExecuteTime": {
     "end_time": "2025-01-23T08:52:47.340486Z",
     "start_time": "2025-01-23T08:52:47.334763Z"
    }
   },
   "cell_type": "code",
   "source": "",
   "id": "5ced66ae48173bf0",
   "outputs": [],
   "execution_count": null
  }
 ],
 "metadata": {
  "kernelspec": {
   "display_name": "Python 3",
   "language": "python",
   "name": "python3"
  },
  "language_info": {
   "codemirror_mode": {
    "name": "ipython",
    "version": 2
   },
   "file_extension": ".py",
   "mimetype": "text/x-python",
   "name": "python",
   "nbconvert_exporter": "python",
   "pygments_lexer": "ipython2",
   "version": "2.7.6"
  }
 },
 "nbformat": 4,
 "nbformat_minor": 5
}
