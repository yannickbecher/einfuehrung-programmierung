{
 "cells": [
  {
   "metadata": {},
   "cell_type": "markdown",
   "source": "__Aufgabe 1__ (Berechnung und Speichern von Primzahlen)<br/>",
   "id": "20ba36a17444efdf"
  },
  {
   "metadata": {},
   "cell_type": "markdown",
   "source": [
    "1a) Schreiben Sie eine Funktion `is_prime(x)`, die bestimmt, ob ein gegebener Parameter vom Typ `Int` eine\n",
    "Primzahl ist oder nicht. Der Rückgabewert ist entsprechend `True` oder `False`."
   ],
   "id": "93380af58ee445eb"
  },
  {
   "cell_type": "code",
   "id": "initial_id",
   "metadata": {
    "collapsed": true,
    "ExecuteTime": {
     "end_time": "2025-01-29T12:19:37.356613Z",
     "start_time": "2025-01-29T12:19:37.323248Z"
    }
   },
   "source": [
    "import math\n",
    "\n",
    "def is_prime(number: int) -> bool:\n",
    "    if number == 2:\n",
    "        return True\n",
    "\n",
    "    if number <= 1 or number % 2 == 0:\n",
    "        return False\n",
    "\n",
    "    for i in range(3, int(math.sqrt(number)) + 1, 2):\n",
    "        if number % i == 0:\n",
    "            return False\n",
    "\n",
    "    return True\n",
    "\n",
    "is_prime(47)"
   ],
   "outputs": [
    {
     "data": {
      "text/plain": [
       "True"
      ]
     },
     "execution_count": 12,
     "metadata": {},
     "output_type": "execute_result"
    }
   ],
   "execution_count": 12
  },
  {
   "metadata": {},
   "cell_type": "markdown",
   "source": [
    "1b) Schreiben Sie eine Funktion `primes_up_to_n(n)`, die die in der vorherigen Aufgabe implementierte\n",
    "Funktion `is_prime` benutzt, um alle Primzahlen zwischen $0$ und $n$ zu berechnen. Speichern Sie außerdem alle\n",
    "gefundenen Primzahlen mittels Listenkomprehension in einer Liste und benutzen Sie diese Liste\n",
    "als Rückgabewert der Funktion."
   ],
   "id": "e0ff2498dbe38786"
  },
  {
   "metadata": {
    "ExecuteTime": {
     "end_time": "2025-01-29T12:19:37.477238Z",
     "start_time": "2025-01-29T12:19:37.450463Z"
    }
   },
   "cell_type": "code",
   "source": [
    "def primes_up_to_n(n: int) -> list[int]:\n",
    "    return [i for i in range(2, n) if is_prime(i)]\n",
    "\n",
    "primes_up_to_n(50)"
   ],
   "id": "59a43b943ed8f6e1",
   "outputs": [
    {
     "data": {
      "text/plain": [
       "[2, 3, 5, 7, 11, 13, 17, 19, 23, 29, 31, 37, 41, 43, 47]"
      ]
     },
     "execution_count": 13,
     "metadata": {},
     "output_type": "execute_result"
    }
   ],
   "execution_count": 13
  },
  {
   "metadata": {},
   "cell_type": "markdown",
   "source": [
    "1c) Schreiben Sie eine einfache Funktion `has_number(x, lst)` zum Suchen einer bestimmten Zahl x in der\n",
    "Liste lst mit einer `for`-Schleife. Wenn die Liste die gesuchte Zahl enthält, dann geben Sie `True` zurück,\n",
    "andernfalls `False`.\n",
    "Benutzen Sie dazu eine `for-else`-Schleife. Erläutern Sie in eigenen Worten, welchen Vorteil diese Variante\n",
    "im Gegensatz zu klassischen `for`-Schleifen bringen kann."
   ],
   "id": "a0aaeb8437f7ab4"
  },
  {
   "metadata": {
    "ExecuteTime": {
     "end_time": "2025-01-29T12:19:37.573377Z",
     "start_time": "2025-01-29T12:19:37.554260Z"
    }
   },
   "cell_type": "code",
   "source": [
    "def has_number(x: int, lst: list[int]) -> bool:\n",
    "    for i in lst:\n",
    "        if i == x:\n",
    "            return True\n",
    "    else:\n",
    "        return False\n",
    "\n",
    "    # return any(i == x for i in lst)\n",
    "\n",
    "has_number(47, primes_up_to_n(50))"
   ],
   "id": "39ca2e16b294ab4c",
   "outputs": [
    {
     "data": {
      "text/plain": [
       "True"
      ]
     },
     "execution_count": 14,
     "metadata": {},
     "output_type": "execute_result"
    }
   ],
   "execution_count": 14
  },
  {
   "metadata": {},
   "cell_type": "markdown",
   "source": "---",
   "id": "6a09a9fcd4ca7490"
  },
  {
   "metadata": {},
   "cell_type": "markdown",
   "source": [
    "__Aufgabe 2__ (Listen und slicing)<br/>\n",
    "In dieser Aufgabe werden verschiedene Listenoperationen, insbesondere `slicing`, ausprobiert. Für alle Teilaufgaben\n",
    "ist dafür die Liste `zahlen = [1, 2, 3, 4, 5, 6, 7, 8, 9]` gegeben."
   ],
   "id": "cded366d1b79a46a"
  },
  {
   "metadata": {
    "ExecuteTime": {
     "end_time": "2025-01-29T12:19:37.708821Z",
     "start_time": "2025-01-29T12:19:37.698144Z"
    }
   },
   "cell_type": "code",
   "source": "zahlen: list[int] = [1, 2, 3, 4, 5, 6, 7, 8, 9]",
   "id": "b8904255b556d16f",
   "outputs": [],
   "execution_count": 15
  },
  {
   "metadata": {},
   "cell_type": "markdown",
   "source": [
    "2a) Geben Sie über Index-Zugriffe die folgenden Positionen der Liste aus:\n",
    "- Das erste Element.\n",
    "- Die letzten Element.\n",
    "- Das ”mittlere“ Element (wenn es kein echtes mittleres Element gibt, ist das links von der Mitte gemeint)"
   ],
   "id": "2f1772c8cb4adcf4"
  },
  {
   "metadata": {
    "ExecuteTime": {
     "end_time": "2025-01-29T12:19:37.778545Z",
     "start_time": "2025-01-29T12:19:37.760757Z"
    }
   },
   "cell_type": "code",
   "source": [
    "print(zahlen[0])                                    # erstes Element\n",
    "print(zahlen[-1])                                   # letztes Element\n",
    "print(zahlen[math.floor((len(zahlen) - 1)/2)])      # mittleres Element"
   ],
   "id": "9f3b334b692e1966",
   "outputs": [
    {
     "name": "stdout",
     "output_type": "stream",
     "text": [
      "1\n",
      "9\n",
      "5\n"
     ]
    }
   ],
   "execution_count": 16
  },
  {
   "metadata": {},
   "cell_type": "markdown",
   "source": [
    "2b) Verwenden Sie slicing, um die folgenden Positionen der Liste auszugeben:\n",
    "- Die ersten drei Elemente.\n",
    "- Die letzten drei Elemente.\n",
    "- Jedes zweite Element, beginnend mit dem Ersten.\n",
    "- Jedes zweite Element, beginnend mit dem Zweiten.\n",
    "- Die Liste in umgekehrter Reihenfolge"
   ],
   "id": "cb28435863576b92"
  },
  {
   "metadata": {
    "ExecuteTime": {
     "end_time": "2025-01-29T12:19:37.887477Z",
     "start_time": "2025-01-29T12:19:37.871918Z"
    }
   },
   "cell_type": "code",
   "source": [
    "print(zahlen[:3])       # ersten drei Elemente\n",
    "print(zahlen[-3:])      # letzten drei Elemente\n",
    "print(zahlen[0::2])     # Jedes zweite Element beginnend mit erstem Element\n",
    "print(zahlen[1::2])     # Jedes zweite Element beginnend mit zweitem Element\n",
    "print(zahlen[::-1])     # umgekehrte Reihenfolge"
   ],
   "id": "65598c3d3a3df4ff",
   "outputs": [
    {
     "name": "stdout",
     "output_type": "stream",
     "text": [
      "[1, 2, 3]\n",
      "[7, 8, 9]\n",
      "[1, 3, 5, 7, 9]\n",
      "[2, 4, 6, 8]\n",
      "[9, 8, 7, 6, 5, 4, 3, 2, 1]\n"
     ]
    }
   ],
   "execution_count": 17
  },
  {
   "metadata": {},
   "cell_type": "markdown",
   "source": [
    "2c) Iterieren Sie mit Hilfe einer `for`-Schleife über alle Elemente der Liste und geben Sie die Elemente einzeln\n",
    "aus. Verwenden Sie dazu drei verschiedene Varianten der `for`-Schleife:\n",
    "- Über Index-basierte Zugriffe mit einer `range`. (Ausgabe über Index-Zugriff `print(zahlen[i])`)\n",
    "- Nur mit dem Keyword `in`. (Ausgabe des Werts direkt: `print(x)`)\n",
    "- Mit Hilfe von `enumerate`. (Ausgabe als Index und Wert: `print(\"{}: {}\".format(i, x))`)"
   ],
   "id": "dc8113ba39535fd5"
  },
  {
   "metadata": {
    "ExecuteTime": {
     "end_time": "2025-01-29T12:19:38.035294Z",
     "start_time": "2025-01-29T12:19:38.019521Z"
    }
   },
   "cell_type": "code",
   "source": [
    "for i in range(len(zahlen)):\n",
    "    print(zahlen[i], end=' ')\n",
    "\n",
    "print(\"\")\n",
    "\n",
    "for i in zahlen:\n",
    "    print(i, end=' ')\n",
    "\n",
    "print(\"\")\n",
    "\n",
    "for i, value in enumerate(zahlen):\n",
    "    print(f\"{i}: {value}\")"
   ],
   "id": "657b9171b3d0fa65",
   "outputs": [
    {
     "name": "stdout",
     "output_type": "stream",
     "text": [
      "1 2 3 4 5 6 7 8 9 \n",
      "1 2 3 4 5 6 7 8 9 \n",
      "0: 1\n",
      "1: 2\n",
      "2: 3\n",
      "3: 4\n",
      "4: 5\n",
      "5: 6\n",
      "6: 7\n",
      "7: 8\n",
      "8: 9\n"
     ]
    }
   ],
   "execution_count": 18
  },
  {
   "metadata": {},
   "cell_type": "markdown",
   "source": "---",
   "id": "e0f8abbd0e516408"
  },
  {
   "metadata": {},
   "cell_type": "markdown",
   "source": [
    "__Aufgabe 3__ (Wurzeltabelle)<br/>\n",
    "\n",
    "In dieser Aufgabe sollen Sie eine Tabelle zur schnellen Bestimmung der Quadratwurzel erstellen. Die Zellenwerte\n",
    "der Tabelle geben dabei die Quadratwurzel des Werts, der sich durch Konkatenation des Index der Zeile und der\n",
    "Reihe ergibt, an. Die Tabelle soll dabei wie folgt aussehen:\n",
    "\n",
    "\n",
    "Zum Beispiel ist der dritte Eintrag in der ersten Zeile $(1.4142)$ der Wert von $\\sqrt{02}$, der erste Wert in der\n",
    "letzten Zeile $(10.0000)$ ist der Wert von $\\sqrt{100}$."
   ],
   "id": "56bf862a857795d9"
  },
  {
   "metadata": {},
   "cell_type": "markdown",
   "source": [
    "3a) Erstellen Sie eine Funktion, die eine verschachtelte Liste mit den Wurzelwerten berechnet. Entsprechend der\n",
    "Tabelle oben, sollen in der ersten Zeile die Wurzelwerte der Zahlen $0$ bis $9$ stehen, in der zweiten Zeile die von\n",
    "$10$ bis $19$. Die Funktion soll einen Parameter für die obere Grenze der Anzahl der Zeilen entgegennehmen.\n",
    "Um die Wurzel einer Zahl zu berechnen, müssen Sie zunächst das Modul `math` mit der Anweisung `import\n",
    "math` importieren. Danach können Sie über `math.sqrt( )` die Wurzel einer beliebigen Zahl berechnen."
   ],
   "id": "75c453dd526c68b1"
  },
  {
   "metadata": {
    "ExecuteTime": {
     "end_time": "2025-01-29T13:01:54.927844Z",
     "start_time": "2025-01-29T13:01:54.914042Z"
    }
   },
   "cell_type": "code",
   "source": [
    "import math\n",
    "\n",
    "def create_square_root_table(rows: int) -> list[list[float]]:\n",
    "    # table: list[list[float]] = []\n",
    "    #\n",
    "    # for row in range(rows):\n",
    "    #     row_list: list[float] = []\n",
    "    #\n",
    "    #     for column in range(10):\n",
    "    #         root = math.sqrt(row * 10 + column)\n",
    "    #         row_list.append(root)\n",
    "    #\n",
    "    #     table.append(row_list)\n",
    "    #\n",
    "    # return table\n",
    "\n",
    "    return [[math.sqrt(row * 10 + column) for column in range(10)] for row in range(rows)]\n",
    "\n",
    "# Test\n",
    "print(create_square_root_table(2))"
   ],
   "id": "d2e2a341a660af04",
   "outputs": [
    {
     "name": "stdout",
     "output_type": "stream",
     "text": [
      "[[0.0, 1.0, 1.4142135623730951, 1.7320508075688772, 2.0, 2.23606797749979, 2.449489742783178, 2.6457513110645907, 2.8284271247461903, 3.0], [3.1622776601683795, 3.3166247903554, 3.4641016151377544, 3.605551275463989, 3.7416573867739413, 3.872983346207417, 4.0, 4.123105625617661, 4.242640687119285, 4.358898943540674]]\n"
     ]
    }
   ],
   "execution_count": 28
  },
  {
   "metadata": {},
   "cell_type": "markdown",
   "source": [
    "3b) Verwenden Sie die Funktion, die Sie in Teilaufgabe a) entwickelt haben um die Tabelle wie oben angegeben\n",
    "auszugeben.\n",
    "\n",
    "Damit die Formatierung der Zellen stimmt, beachten Sie dazu die Dokumentation zu Formatstrings (https://docs.python.org/3/library/string.html#format-string-syntax) sowie die Beispiele zu `format` aus der Vorlesung. Um\n",
    "einzelne `print`-Befehle in einer Zeile zu kombinieren, können Sie den optionalen Parameter `end` verwenden, um keinen automatischen Zeilenumbruch einzufügen: `print(\"foo\", end=\"\")`."
   ],
   "id": "bc510a90582fc645"
  },
  {
   "metadata": {
    "ExecuteTime": {
     "end_time": "2025-01-29T13:17:46.351903Z",
     "start_time": "2025-01-29T13:17:46.323419Z"
    }
   },
   "cell_type": "code",
   "source": [
    "def print_square_root_table(root_table: list[list[float]]) -> None:\n",
    "    stringified_table: list[list[str]] = []\n",
    "\n",
    "    # Header row\n",
    "    header_row: list[str] = [\"\"] + [f\"{i}\" for i in range(10)]\n",
    "    stringified_table.append(header_row)\n",
    "\n",
    "    for row in root_table:\n",
    "        new_row: list[str] = [str(len(stringified_table) - 1)]\n",
    "\n",
    "        # Werte auf 3 Dezimalstellen formatieren und zur Liste hinzufügen\n",
    "        new_row.extend(f\"{num:.3f}\" for num in row)\n",
    "        stringified_table.append(new_row)\n",
    "\n",
    "    # print\n",
    "    for row in stringified_table:\n",
    "        for entry in row:\n",
    "            print(f\"{entry:<7}\", end=' ')\n",
    "        print('')\n",
    "\n",
    "print_square_root_table(create_square_root_table(10))"
   ],
   "id": "3f4031d596b36ef0",
   "outputs": [
    {
     "name": "stdout",
     "output_type": "stream",
     "text": [
      "        0       1       2       3       4       5       6       7       8       9       \n",
      "0       0.000   1.000   1.414   1.732   2.000   2.236   2.449   2.646   2.828   3.000   \n",
      "1       3.162   3.317   3.464   3.606   3.742   3.873   4.000   4.123   4.243   4.359   \n",
      "2       4.472   4.583   4.690   4.796   4.899   5.000   5.099   5.196   5.292   5.385   \n",
      "3       5.477   5.568   5.657   5.745   5.831   5.916   6.000   6.083   6.164   6.245   \n",
      "4       6.325   6.403   6.481   6.557   6.633   6.708   6.782   6.856   6.928   7.000   \n",
      "5       7.071   7.141   7.211   7.280   7.348   7.416   7.483   7.550   7.616   7.681   \n",
      "6       7.746   7.810   7.874   7.937   8.000   8.062   8.124   8.185   8.246   8.307   \n",
      "7       8.367   8.426   8.485   8.544   8.602   8.660   8.718   8.775   8.832   8.888   \n",
      "8       8.944   9.000   9.055   9.110   9.165   9.220   9.274   9.327   9.381   9.434   \n",
      "9       9.487   9.539   9.592   9.644   9.695   9.747   9.798   9.849   9.899   9.950   \n"
     ]
    }
   ],
   "execution_count": 30
  },
  {
   "metadata": {},
   "cell_type": "markdown",
   "source": [
    "3c) Implementieren Sie nun eine Funktion `d33pc0py`, die eine _Deep Copy_ von der verschachtelten Liste erstellt.\n",
    "Benutzen Sie dafür nicht die deepcopy-Funktion von Python selbst.\n",
    "Testen Sie die Funktion der `d33pc0py`-Funktion geeignet."
   ],
   "id": "7a15e1467986a074"
  },
  {
   "metadata": {
    "ExecuteTime": {
     "end_time": "2025-01-29T12:19:53.304868Z",
     "start_time": "2025-01-29T12:19:53.284837Z"
    }
   },
   "cell_type": "code",
   "source": [
    "def d33pc0py(obj: list | dict | object) -> list | dict | object:\n",
    "    if isinstance(obj, list):\n",
    "        return [d33pc0py(item) for item in obj]\n",
    "    elif isinstance(obj, dict):\n",
    "        return {key: d33pc0py(val) for key, val in obj.items()}\n",
    "    else:\n",
    "        return obj\n",
    "\n",
    "\n",
    "original = [1, [2, 3], {'a': 4}, {'b': [5, 6]}]\n",
    "copied = d33pc0py(original)\n",
    "\n",
    "print(\"Original:\", original)\n",
    "print(\"Kopie:\", copied)\n",
    "\n",
    "original[0] = 'x'\n",
    "original[1][0] = 'y'\n",
    "original[2]['a'] = 'z'\n",
    "\n",
    "print(\"Original:\", original)\n",
    "print(\"Kopie:\", copied)"
   ],
   "id": "5ced66ae48173bf0",
   "outputs": [
    {
     "name": "stdout",
     "output_type": "stream",
     "text": [
      "Original: [1, [2, 3], {'a': 4}, {'b': [5, 6]}]\n",
      "Kopie: [1, [2, 3], {'a': 4}, {'b': [5, 6]}]\n",
      "Original: ['x', ['y', 3], {'a': 'z'}, {'b': [5, 6]}]\n",
      "Kopie: [1, [2, 3], {'a': 4}, {'b': [5, 6]}]\n"
     ]
    }
   ],
   "execution_count": 22
  }
 ],
 "metadata": {
  "kernelspec": {
   "display_name": "Python 3",
   "language": "python",
   "name": "python3"
  },
  "language_info": {
   "codemirror_mode": {
    "name": "ipython",
    "version": 2
   },
   "file_extension": ".py",
   "mimetype": "text/x-python",
   "name": "python",
   "nbconvert_exporter": "python",
   "pygments_lexer": "ipython2",
   "version": "2.7.6"
  }
 },
 "nbformat": 4,
 "nbformat_minor": 5
}
