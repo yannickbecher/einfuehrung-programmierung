{
 "cells": [
  {
   "cell_type": "code",
   "id": "initial_id",
   "metadata": {
    "collapsed": true,
    "ExecuteTime": {
     "end_time": "2025-01-09T10:01:34.205567Z",
     "start_time": "2025-01-09T10:01:34.183183Z"
    }
   },
   "source": [
    "a = 10\n",
    "print(a)\n",
    "b = 20\n",
    "print(b)\n",
    "c = a + b\n",
    "print(c)\n",
    "d = 4.2\n",
    "print(d)\n",
    "e = c * d\n",
    "print(e)\n",
    "f = b ** 2\n",
    "print(f)\n",
    "g = f / e\n",
    "print(g)\n",
    "h = f // e\n",
    "print(h)\n",
    "i = f % e\n",
    "print(i)"
   ],
   "outputs": [
    {
     "name": "stdout",
     "output_type": "stream",
     "text": [
      "10\n",
      "20\n",
      "30\n",
      "4.2\n",
      "126.0\n",
      "400\n",
      "3.1746031746031744\n",
      "3.0\n",
      "22.0\n"
     ]
    }
   ],
   "execution_count": 1
  },
  {
   "metadata": {
    "ExecuteTime": {
     "end_time": "2025-01-09T10:03:12.400478Z",
     "start_time": "2025-01-09T10:03:12.367947Z"
    }
   },
   "cell_type": "code",
   "source": [
    "s = \"Hallo Welt!\"\n",
    "print(s)\n",
    "s += \"!!\"\n",
    "print(s)"
   ],
   "id": "44954dd863c82c38",
   "outputs": [
    {
     "name": "stdout",
     "output_type": "stream",
     "text": [
      "Hallo Welt!\n",
      "Hallo Welt!!!\n"
     ]
    }
   ],
   "execution_count": 2
  },
  {
   "metadata": {},
   "cell_type": "code",
   "outputs": [],
   "execution_count": null,
   "source": "",
   "id": "1bac93cf713fbe9"
  },
  {
   "metadata": {
    "ExecuteTime": {
     "end_time": "2025-01-15T12:48:24.166072Z",
     "start_time": "2025-01-15T12:48:17.838747Z"
    }
   },
   "cell_type": "code",
   "source": [
    "# Verwenden Sie die Funktion sqrt(x) zur Berechnung der Quadratwurzel\n",
    "from math import sqrt\n",
    "\n",
    "# Kantenwerte einlesen\n",
    "a: int = int(input(\"Geben Sie Seitenlänge a an:\"))\n",
    "b: int = int(input(\"Geben Sie Seitenlänge b an:\"))\n",
    "c: int = int(input(\"Geben Sie Seitenlänge c an:\"))\n",
    "\n",
    "# ... sicherstellen, dass a/b/c größer als 0 sind\n",
    "if a < 0 or b < 0 or c < 0:\n",
    "    print(\"Ungültiger Input. Mindestens eine eingegebene Seitenlänge ist negativ.\")\n",
    "\n",
    "# Überprüfung der Dreiecksungleichung\n",
    "elif not (a + b > c and a + c > b and b + c > a):\n",
    "    print(\"Ungültiger Input. Die eingegebenen Seiten bilden kein gültiges Dreieck.\")\n",
    "\n",
    "else:\n",
    "    s: float = (a + b + c) / 2\n",
    "    area: float = sqrt(s * (s-a) * (s-b) * (s-c))\n",
    "\n",
    "    #... Ergebnis ausgeben\n",
    "    print(f\"Fläche: {area}\")"
   ],
   "id": "b64820155b475536",
   "outputs": [
    {
     "name": "stdout",
     "output_type": "stream",
     "text": [
      "Ungültiger Input. Die eingegebenen Seiten bilden kein gültiges Dreieck.\n"
     ]
    }
   ],
   "execution_count": 4
  },
  {
   "metadata": {},
   "cell_type": "markdown",
   "source": [
    "| Zuweisung                         | richtig? | Wert                    | Fehler                                                           |\n",
    "|-----------------------------------|----------|:------------------------|:-----------------------------------------------------------------|\n",
    "| a = \"12\"                          | ja       | String mit _12_         |                                                                  |\n",
    "| var_b = true                      | nein     |                         | True muss groß sein                                              |\n",
    "| c = 'python'                      | ja       | String mit _python_     |                                                                  |\n",
    "| d = 5                             | ja       | int mit Wert _5_        |                                                                  |\n",
    "| 2e = 7                            | nein     |                         | 2 vor dem e                                                      |\n",
    "| f = 5; _g = f*\"ha\"                | ja       | \"hahahahaha\"            |                                                                  |\n",
    "| hi2 = 3.1415                      | ja       | Float mit Wert _3.1415_ | <br/> <br/>                                                      |\n",
    "| ieeh = 'Pfui' + 8 + \"Spinne\"      | nein     |                         | 8 muss String sein                                               |\n",
    "| j-2 = 17+2                        | nein     |                         | -2 kann sich zum Operator assigned werden                        |\n",
    "| kalamari = not False and not True | ja       | False                   |                                                                  |\n",
    "| l = True and 2                    | nein     |                         | Verknüpfung zweier Unterschiedlicher Datentypen; and nur logisch |\n",
    "| m = 3,1415                        | ja       | Tupel mit 3 und 1415    |                                                                  |\n",
    "| n = False or 2 and 5              | ja       | int mit Wert 5          | <br/>                                                            |\n",
    "|                                   |          |                         |\n",
    "| p = 25 == 5**2                    | ja       | bool mit True           |                                                                  |\n",
    "| q = 25.0/5                        | ja       | Float mit Wert _5.0_    | <br/><br/>                                                       |\n",
    "| r = 26//5.0                       | ja       | Float mit Wert _5.0_    | <br/><br/>                                                       |\n",
    "| s = 26-(26//5*5)                  | ja       | Float mit Wert _1.0_    | <br/><br/>                                                       |\n",
    "| t = 26%5                          | ja       | int mit Wert 1          |                                                                  |"
   ],
   "id": "f41559889269d588"
  },
  {
   "metadata": {
    "ExecuteTime": {
     "end_time": "2025-01-15T13:04:15.223972Z",
     "start_time": "2025-01-15T13:04:15.211665Z"
    }
   },
   "cell_type": "code",
   "source": [
    "number: int = 159\n",
    "print(\"In Hex ist die Zahl {:x}\".format(number))\n",
    "print(f\"{number:08x}\")\n",
    "print(f\"{number:f}\")\n",
    "print(f\"{number:.3f}\")\n",
    "print(f\"{number:09.3f}\")\n",
    "print(f\"{number:+010.3f}\")"
   ],
   "id": "d1541c1db28c555",
   "outputs": [
    {
     "name": "stdout",
     "output_type": "stream",
     "text": [
      "In Hex ist die Zahl 9f\n",
      "0000009f\n",
      "159.000000\n",
      "159.000\n",
      "00159.000\n",
      "+00159.000\n"
     ]
    }
   ],
   "execution_count": 7
  },
  {
   "metadata": {
    "ExecuteTime": {
     "end_time": "2025-01-15T13:22:59.624556Z",
     "start_time": "2025-01-15T13:22:59.604437Z"
    }
   },
   "cell_type": "code",
   "source": [
    "s: str = \"Python\"\n",
    "n: int = 3\n",
    "\n",
    "print(f\"{s}{n}\")\n",
    "print(f\"^15{s}{n:^15}\")\n",
    "print(f\"{s:<10}{n}\")"
   ],
   "id": "11586a1b26b2c521",
   "outputs": [
    {
     "name": "stdout",
     "output_type": "stream",
     "text": [
      "Python3\n",
      "^15Python3\n",
      "Python    3\n"
     ]
    }
   ],
   "execution_count": 8
  }
 ],
 "metadata": {
  "kernelspec": {
   "display_name": "Python 3",
   "language": "python",
   "name": "python3"
  },
  "language_info": {
   "codemirror_mode": {
    "name": "ipython",
    "version": 2
   },
   "file_extension": ".py",
   "mimetype": "text/x-python",
   "name": "python",
   "nbconvert_exporter": "python",
   "pygments_lexer": "ipython2",
   "version": "2.7.6"
  }
 },
 "nbformat": 4,
 "nbformat_minor": 5
}
