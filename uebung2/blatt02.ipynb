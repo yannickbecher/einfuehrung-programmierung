{
 "cells": [
  {
   "metadata": {},
   "cell_type": "markdown",
   "source": [
    "__Aufgabe 1__ (Einfache Funktionen)<br/>\n",
    "In dieser Aufgabe sollen Sie den Umgang mit einfachen Funktionen in Python kennenlernen und üben."
   ],
   "id": "df5b786636190a57"
  },
  {
   "metadata": {},
   "cell_type": "markdown",
   "source": "1a) Schreiben Sie eine Funktion mit Namen hallo, die über `print` den Text `\"Hallo Welt!\"` ausgibt.",
   "id": "b1e14f656a8d795c"
  },
  {
   "cell_type": "code",
   "id": "initial_id",
   "metadata": {
    "collapsed": true,
    "ExecuteTime": {
     "end_time": "2025-01-16T08:31:21.494334Z",
     "start_time": "2025-01-16T08:31:21.482296Z"
    }
   },
   "source": [
    "def hallo() -> None:\n",
    "    print(\"Hallo Welt!\")\n",
    "\n",
    "hallo()"
   ],
   "outputs": [
    {
     "name": "stdout",
     "output_type": "stream",
     "text": [
      "Hallo Welt!\n"
     ]
    }
   ],
   "execution_count": 11
  },
  {
   "metadata": {},
   "cell_type": "markdown",
   "source": [
    "1b) Erweitern Sie die Funktion `hallo` aus der vorherigen Teilaufgabe um einen Parameter `name`. Die Funktion\n",
    "soll diesen Parameter verwenden um `\"Hallo, Name\"` auszugeben."
   ],
   "id": "119b586182c4af9d"
  },
  {
   "metadata": {
    "jupyter": {
     "is_executing": true
    }
   },
   "cell_type": "code",
   "source": [
    "def hallo(name: str) -> None:\n",
    "    print(f\"Hallo, {name}!\")\n",
    "\n",
    "hallo(\"Welt\")"
   ],
   "id": "b5a2690bd6e4b269",
   "outputs": [],
   "execution_count": null
  },
  {
   "metadata": {},
   "cell_type": "markdown",
   "source": [
    "1c) Modifizieren Sie die Funktion `hallo` aus der vorherigen Teilaufgabe so, dass sie die zusammengesetzte Zeichenkette\n",
    " nicht einfach ausgibt, sondern als Rückgabewert zurückgibt. Rufen Sie die Funktion auf, speichern\n",
    "Sie den Rückgabewert in einer Variable und geben Sie diese mit `print` aus."
   ],
   "id": "83ee718e57010e12"
  },
  {
   "metadata": {
    "ExecuteTime": {
     "end_time": "2025-01-22T12:19:50.052096Z",
     "start_time": "2025-01-22T12:19:50.038948Z"
    }
   },
   "cell_type": "code",
   "source": [
    "def hallo(name: str) -> str:\n",
    "    return f\"Hallo, {name}!\"\n",
    "\n",
    "greetings: str = hallo(\"Welt\")\n",
    "print(greetings)"
   ],
   "id": "4df6337057243b16",
   "outputs": [
    {
     "name": "stdout",
     "output_type": "stream",
     "text": [
      "Hallo, Welt!\n"
     ]
    }
   ],
   "execution_count": 14
  },
  {
   "metadata": {},
   "cell_type": "markdown",
   "source": [
    "1d) Erstellen Sie eine neue Funktion `count`, die einen Parameter `limit` hat. Diese Funktion soll mit Hilfe einer\n",
    "while-Schleife alle natürlichen Zahlen bis zur Grenze `limit` ausgeben."
   ],
   "id": "d3ed197d495fa22"
  },
  {
   "metadata": {
    "ExecuteTime": {
     "end_time": "2025-01-16T08:30:40.515960Z",
     "start_time": "2025-01-16T08:30:40.504489Z"
    }
   },
   "cell_type": "code",
   "source": [
    "def count(limit: int) -> None:\n",
    "    i: int = 0\n",
    "    while i <= limit:\n",
    "        print(i, end=\" \")\n",
    "        i += 1\n",
    "\n",
    "count(20)"
   ],
   "id": "72c0b4f3cbcf274",
   "outputs": [
    {
     "name": "stdout",
     "output_type": "stream",
     "text": [
      "0 1 2 3 4 5 6 7 8 9 10 11 12 13 14 15 16 17 18 19 20 "
     ]
    }
   ],
   "execution_count": 9
  },
  {
   "metadata": {},
   "cell_type": "markdown",
   "source": [
    "1e) Erweitern Sie die Funktion aus der vorherigen Teilaufgabe um einen zweiten Parameter `start`, mit dem Sie\n",
    "den Startwert der Aufzählung festlegen können."
   ],
   "id": "b23b2550b99d1174"
  },
  {
   "metadata": {
    "ExecuteTime": {
     "end_time": "2025-01-16T08:30:52.938339Z",
     "start_time": "2025-01-16T08:30:52.923600Z"
    }
   },
   "cell_type": "code",
   "source": [
    "def count(limit: int, start: int) -> None:\n",
    "    while start <= limit:\n",
    "        print(start, end=\" \")\n",
    "        start += 1\n",
    "\n",
    "count(20, 5)"
   ],
   "id": "c80b06854aa11229",
   "outputs": [
    {
     "name": "stdout",
     "output_type": "stream",
     "text": [
      "5 6 7 8 9 10 11 12 13 14 15 16 17 18 19 20 "
     ]
    }
   ],
   "execution_count": 10
  },
  {
   "metadata": {},
   "cell_type": "markdown",
   "source": "1f) Modifizieren Sie die Funktion `count` so, dass Sie die Funktionen `hallo` verwenden, um jede Zahl zu ”begrüßen“.",
   "id": "faf990eebf8c0a58"
  },
  {
   "metadata": {
    "ExecuteTime": {
     "end_time": "2025-01-22T12:20:28.067704Z",
     "start_time": "2025-01-22T12:20:28.055664Z"
    }
   },
   "cell_type": "code",
   "source": [
    "def count(limit: int, start: int) -> None:\n",
    "    while start <= limit:\n",
    "        print(hallo(str(start)), end=\" \")\n",
    "        start += 1\n",
    "\n",
    "count(20, 5)"
   ],
   "id": "37cae5192d62b894",
   "outputs": [
    {
     "name": "stdout",
     "output_type": "stream",
     "text": [
      "Hallo, 5! Hallo, 6! Hallo, 7! Hallo, 8! Hallo, 9! Hallo, 10! Hallo, 11! Hallo, 12! Hallo, 13! Hallo, 14! Hallo, 15! Hallo, 16! Hallo, 17! Hallo, 18! Hallo, 19! Hallo, 20! "
     ]
    }
   ],
   "execution_count": 16
  },
  {
   "metadata": {},
   "cell_type": "markdown",
   "source": [
    "1g) Implementieren Sie eine Funktion `to_degree_fahrenheit(celsius, genauigkeit=0)`, die den\n",
    "Wert des ersten Parameters `celsius` in Grad Celsius in die Einheit Grad Fahrenheit umrechnet zurückgibt.\n",
    "Der zweite, benannte Parameter `genauigkeit` gibt dabei die Anzahl der Nachkommastellen an, die dabei angegeben werden sollen. Ohne Angabe der Genauigkeit werden Nachkommastellen abgeschnitten\n",
    "(`genauigkeit = 0`). Stellen Sie auch sicher, dass `genauigkeit` zwischen 0 und 5 liegt."
   ],
   "id": "9f88fd4ee6456e81"
  },
  {
   "metadata": {
    "ExecuteTime": {
     "end_time": "2025-01-22T12:55:35.937083Z",
     "start_time": "2025-01-22T12:55:35.907828Z"
    }
   },
   "cell_type": "code",
   "source": [
    "def to_degree_fahrenheit(celsius: float, genauigkeit: int = 0) -> float:\n",
    "    if genauigkeit not in range(6):\n",
    "        raise Exception(\"genauigkeit must be between 0 and 5!\")\n",
    "    fahrenheit: float = (celsius * 9/5) + 32\n",
    "    return round(fahrenheit, genauigkeit)\n",
    "\n",
    "to_degree_fahrenheit(3.1415, 5)"
   ],
   "id": "fca8fb41d86e10c4",
   "outputs": [
    {
     "data": {
      "text/plain": [
       "37.6547"
      ]
     },
     "execution_count": 21,
     "metadata": {},
     "output_type": "execute_result"
    }
   ],
   "execution_count": 21
  },
  {
   "metadata": {},
   "cell_type": "markdown",
   "source": "---",
   "id": "6b49c7e92388966d"
  },
  {
   "metadata": {},
   "cell_type": "markdown",
   "source": [
    "__Aufgabe 2__ (Zahlenraten)<br/>\n",
    "Aus der Vorlesung in Kapitel 3 kennen Sie bereits das folgende Spiel zum Zahlenraten mittels while-Schleife:\n",
    "\n",
    "```\n",
    "from random import randint\n",
    "\n",
    "gedacht = randint(1, 10)\n",
    "print(\"Errate die Zahl zwischen 1 und 10!\")\n",
    "\n",
    "while True:\n",
    "    geraten = int(input(\"Dein Tipp: \"))\n",
    "    if geraten > gedacht:\n",
    "        print(\"Nein, ist kleiner!\")\n",
    "    elif geraten < gedacht:\n",
    "        print(\"Nein, ist größer!\")\n",
    "    else:\n",
    "        break\n",
    "\n",
    "print(\"Genau!\")\n",
    "```"
   ],
   "id": "d958190b1c4e9b33"
  },
  {
   "metadata": {},
   "cell_type": "markdown",
   "source": [
    "2a) Fügen Sie eine Zählvariable ein, die zählt, wie häufig der Spieler raten musste, bis er die richtige Zahl\n",
    "erraten hat. Geben Sie diese Zahl aus, wenn die Zahl richtig erraten wurde"
   ],
   "id": "f21250f943a5dbfc"
  },
  {
   "metadata": {
    "ExecuteTime": {
     "end_time": "2025-01-22T12:50:34.760961Z",
     "start_time": "2025-01-22T12:50:05.713191Z"
    }
   },
   "cell_type": "code",
   "source": [
    "from random import randint\n",
    "\n",
    "gedacht: int = randint(1, 10)\n",
    "versuche: int = 1\n",
    "print(\"Errate die Zahl zwischen 1 und 10!\")\n",
    "\n",
    "while True:\n",
    "     # Überprüfe, ob Input kein Int ist\n",
    "    try:\n",
    "        geraten: int = int(input(\"Dein Tipp: \"))\n",
    "    except ValueError:\n",
    "        print(\"Gib eine Zahl zwischen 1 und 10 an!\")\n",
    "        continue\n",
    "\n",
    "    # Zahlenbereich überprüfen\n",
    "    if geraten not in range(1, 11):\n",
    "        print(\"Die Zahl ist zwischen 1 und 10!\")\n",
    "        continue\n",
    "\n",
    "    if geraten > gedacht:\n",
    "        print(\"Nein, ist kleiner!\")\n",
    "        versuche += 1\n",
    "    elif geraten < gedacht:\n",
    "        print(\"Nein, ist größer!\")\n",
    "        versuche += 1\n",
    "    else:\n",
    "        break\n",
    "\n",
    "print(f\"Genau! Du hast {versuche} Versuch(e) benötigt.\")"
   ],
   "id": "3b209f3380310c63",
   "outputs": [
    {
     "name": "stdout",
     "output_type": "stream",
     "text": [
      "Errate die Zahl zwischen 1 und 10!\n",
      "Nein, ist kleiner!\n",
      "Nein, ist kleiner!\n",
      "Nein, ist kleiner!\n",
      "Genau! Du hast 4 Versuch(e) benötigt.\n"
     ]
    }
   ],
   "execution_count": 20
  },
  {
   "metadata": {},
   "cell_type": "markdown",
   "source": [
    "2b) Modifizieren Sie Ihren Code jetzt so, dass der Spieler beim Raten nur eine begrenzte Anzahl an Versuchen hat\n",
    "(z. B. 5). Verwenden Sie hierzu das while-else-Konstrukt."
   ],
   "id": "fd607dab76fe486e"
  },
  {
   "metadata": {
    "jupyter": {
     "is_executing": true
    }
   },
   "cell_type": "code",
   "source": [
    "gedacht: int = randint(1, 10)\n",
    "versuche: int = 0\n",
    "max_versuche: int = 5\n",
    "\n",
    "print(f\"Errate die Zahl zwischen 1 und 10! Du hast {max_versuche} Versuche.\")\n",
    "\n",
    "while True and versuche < max_versuche:\n",
    "     # Überprüfe, ob Input kein Int ist\n",
    "    try:\n",
    "        geraten: int = int(input(\"Dein Tipp: \"))\n",
    "    except ValueError:\n",
    "        print(\"Gib eine Zahl zwischen 1 und 10 an!\")\n",
    "        continue\n",
    "\n",
    "    # Zahlenbereich überprüfen\n",
    "    if geraten not in range(1, 11):\n",
    "        print(\"Die Zahl ist zwischen 1 und 10!\")\n",
    "        continue\n",
    "\n",
    "    if geraten > gedacht:\n",
    "        print(\"Nein, ist kleiner!\")\n",
    "    elif geraten < gedacht:\n",
    "        print(\"Nein, ist größer!\")\n",
    "    else:\n",
    "        print(f\"Genau! Du hast {versuche + 1} Versuch(e) benötigt.\")\n",
    "        break\n",
    "\n",
    "    versuche += 1\n",
    "else:\n",
    "    print(f\"Leider hast du alle Versuche ausgeschöpft. Die Zahl war {gedacht}.\")"
   ],
   "id": "63adf4efb84e66b9",
   "outputs": [],
   "execution_count": null
  },
  {
   "metadata": {},
   "cell_type": "markdown",
   "source": [
    "2c) Bauen Sie nun noch eine Überprüfung in Ihren Code ein, der checked ob zweimal hintereinander die selbe\n",
    "Zahl geraten wurde. In diesem Fall soll der Versuch nicht als Zug zahlen. (Sie können also unendlich oft die\n",
    "gleiche Zahl raten.)\n"
   ],
   "id": "68c7fb5d78a770c"
  },
  {
   "metadata": {},
   "cell_type": "code",
   "outputs": [],
   "execution_count": null,
   "source": [
    "gedacht = randint(1, 10)\n",
    "versuche: int = 0\n",
    "max_versuche: int = 5\n",
    "letzter_versuche: int = 0\n",
    "\n",
    "print(f\"Errate die Zahl zwischen 1 und 10! Du hast {max_versuche} Versuche.\")\n",
    "\n",
    "while True and versuche < max_versuche:\n",
    "     # Überprüfe, ob Input kein Int ist\n",
    "    try:\n",
    "        geraten: int = int(input(\"Dein Tipp: \"))\n",
    "    except ValueError:\n",
    "        print(\"Gib eine Zahl zwischen 1 und 10 an!\")\n",
    "        continue\n",
    "\n",
    "    # Zahlenbereich überprüfen\n",
    "    if geraten not in range(1, 11):\n",
    "        print(\"Die Zahl ist zwischen 1 und 10!\")\n",
    "        continue\n",
    "\n",
    "    # Letzten Versuch vergleichen\n",
    "    if geraten == letzter_versuche:\n",
    "        print(\"Hattest du letztes mal schon!\")\n",
    "        continue\n",
    "\n",
    "    if geraten > gedacht:\n",
    "        print(\"Nein, ist kleiner!\")\n",
    "    elif geraten < gedacht:\n",
    "        print(\"Nein, ist größer!\")\n",
    "    else:\n",
    "        print(f\"Genau! Du hast {versuche + 1} Versuch(e) benötigt.\")\n",
    "        break\n",
    "\n",
    "    versuche += 1\n",
    "    letzter_versuche = geraten\n",
    "else:\n",
    "    print(f\"Leider hast du alle Versuche ausgeschöpft. Die Zahl war {gedacht}.\")"
   ],
   "id": "e30a59fec241d738"
  },
  {
   "metadata": {},
   "cell_type": "markdown",
   "source": "---",
   "id": "7ff775f07f3c3939"
  },
  {
   "metadata": {},
   "cell_type": "markdown",
   "source": [
    "__Aufgabe 3__ (Approximation von $\\pi$)<br/>\n",
    "Zur naherungsweisen Berechnung des Wertes von $\\pi$ gibt es viele verschiedene Verfahren. Eine Methode verwendet\n",
    "die Leibniz-Reihe zur Annäherung. Je länger die Reihe berechnet wird, desto genauer ist die Approximation von\n",
    "$\\pi$:"
   ],
   "id": "5dbf6cdab87a4638"
  },
  {
   "metadata": {},
   "cell_type": "markdown",
   "source": [
    "3a) Formulieren Sie die Reihe als for-Schleife, die ausgehend von dem Startwert 4 jeweils abwechselnd den\n",
    "nachsten Bruch subtrahiert und addiert. Verwenden Sie fürs erste den Bereich range(0, 200) für Ihre\n",
    "Schleife und geben Sie nach erfolgreichem Durchlaufen der Schleife das Ergebnis per print()-Aufruf aus."
   ],
   "id": "b04ef93265685357"
  },
  {
   "metadata": {
    "ExecuteTime": {
     "end_time": "2025-01-22T13:24:42.724927Z",
     "start_time": "2025-01-22T13:24:42.707842Z"
    }
   },
   "cell_type": "code",
   "source": [
    "pi: float = 0.0\n",
    "\n",
    "for i in range(0, 200):\n",
    "   pi = pi + (-1)**i * 4 / (2 * i + 1)\n",
    "\n",
    "pi"
   ],
   "id": "fe0779c22abc8c78",
   "outputs": [
    {
     "data": {
      "text/plain": [
       "3.136592684838816"
      ]
     },
     "execution_count": 22,
     "metadata": {},
     "output_type": "execute_result"
    }
   ],
   "execution_count": 22
  },
  {
   "metadata": {},
   "cell_type": "markdown",
   "source": [
    "3b) Fügen Sie Ihren Code in eine Funktion calc_pi ein. Die Funktion soll einen Parameter haben, der die obere\n",
    "Schranke fur die Anzahl der Schleifendurchläufe angibt. Geben Sie bei jedem Schleifendurchlauf den aktuellen\n",
    "Wert des Zählers, den aktuellen Wert für $\\pi$ und den aktuellen Wert des Bruchs aus."
   ],
   "id": "f1c2d76b39f9927"
  },
  {
   "metadata": {
    "ExecuteTime": {
     "end_time": "2025-01-22T13:28:35.058711Z",
     "start_time": "2025-01-22T13:28:35.031206Z"
    }
   },
   "cell_type": "code",
   "source": [
    "def calc_pi(iterations: int) -> None:\n",
    "    pi: float = 0.0\n",
    "\n",
    "    for i in range(0, iterations):\n",
    "        pi = pi + (-1)**i * 4 / (2 * i + 1)\n",
    "        print(pi)\n",
    "\n",
    "calc_pi(100)"
   ],
   "id": "25216cb5f5e20d5b",
   "outputs": [
    {
     "name": "stdout",
     "output_type": "stream",
     "text": [
      "4.0\n",
      "2.666666666666667\n",
      "3.466666666666667\n",
      "2.8952380952380956\n",
      "3.3396825396825403\n",
      "2.9760461760461765\n",
      "3.2837384837384844\n",
      "3.017071817071818\n",
      "3.2523659347188767\n",
      "3.0418396189294032\n",
      "3.232315809405594\n",
      "3.058402765927333\n",
      "3.2184027659273333\n",
      "3.0702546177791854\n",
      "3.208185652261944\n",
      "3.079153394197428\n",
      "3.200365515409549\n",
      "3.0860798011238346\n",
      "3.1941879092319425\n",
      "3.09162380666784\n",
      "3.189184782277596\n",
      "3.0961615264636424\n",
      "3.1850504153525314\n",
      "3.099944032373808\n",
      "3.1815766854350325\n",
      "3.1031453128860127\n",
      "3.1786170109992202\n",
      "3.1058897382719475\n",
      "3.1760651768684385\n",
      "3.108268566698947\n",
      "3.1738423371907505\n",
      "3.110350273698687\n",
      "3.1718887352371485\n",
      "3.112187242699835\n",
      "3.1701582571925884\n",
      "3.1138202290235744\n",
      "3.1686147495715193\n",
      "3.115281416238186\n",
      "3.167229468186238\n",
      "3.116596556793833\n",
      "3.1659792728432157\n",
      "3.117786501758878\n",
      "3.1648453252882898\n",
      "3.118868313794037\n",
      "3.163812134018756\n",
      "3.1198560900627124\n",
      "3.1628668427508844\n",
      "3.1207615795929895\n",
      "3.161998692995051\n",
      "3.121594652591011\n",
      "3.1611986129870506\n",
      "3.12236366153074\n",
      "3.160458899625978\n",
      "3.1230757220558845\n",
      "3.1597729697623063\n",
      "3.12373693372627\n",
      "3.159135163814766\n",
      "3.124352555119114\n",
      "3.158540589307148\n",
      "3.1249271439289967\n",
      "3.157984995168666\n",
      "3.125464669965414\n",
      "3.157464669965414\n",
      "3.125968606973288\n",
      "3.1569763589112725\n",
      "3.1264420077662343\n",
      "3.156517195736159\n",
      "3.126887566106529\n",
      "3.1560846463985\n",
      "3.127307667981234\n",
      "3.155676462307475\n",
      "3.127704434335447\n",
      "3.155290641231999\n",
      "3.1280797568782575\n",
      "3.15492539446215\n",
      "3.1284353282369843\n",
      "3.1545791190866574\n",
      "3.128772667473754\n",
      "3.1542503744801236\n",
      "3.129093141775721\n",
      "3.1539378622726155\n",
      "3.129397984972002\n",
      "3.1536404092144266\n",
      "3.129688313406043\n",
      "3.1533569524592977\n",
      "3.129965139593801\n",
      "3.153086526877038\n",
      "3.1302293840198954\n",
      "3.1528282540763923\n",
      "3.1304818853613083\n",
      "3.1525813328751204\n",
      "3.1307234093778527\n",
      "3.1523450309994745\n",
      "3.1309546566679236\n",
      "3.152118677831945\n",
      "3.131176269454982\n",
      "3.151901658056018\n",
      "3.1313888375431977\n",
      "3.1516934060711166\n",
      "3.1315929035585537\n"
     ]
    }
   ],
   "execution_count": 24
  },
  {
   "metadata": {},
   "cell_type": "markdown",
   "source": [
    "3c) Kopieren Sie Ihre Funktion und tauschen Sie die for-Schleife gegen eine while-Schleife. Die Schleife soll\n",
    "so lange durchlaufen werden, bis die Differenz zwischen der angenäherten Zahl und math.pi kleiner ist, als\n",
    "der als Parameter übergebene Wert. Wenn Sie $\\pi$ hinreichend genau approximiert haben, geben Sie die Anzahl\n",
    "der notwendigen Schleifendurchläufe zurück.\n",
    "Um math.pi verwenden zu können, müssen Sie zunächst das math-Paket importieren. Fügen Sie dazu am\n",
    "Anfang Ihrer Datei import math ein."
   ],
   "id": "7f11de9640fe8e74"
  },
  {
   "metadata": {
    "ExecuteTime": {
     "end_time": "2025-01-22T13:34:07.975831Z",
     "start_time": "2025-01-22T13:34:07.965928Z"
    }
   },
   "cell_type": "code",
   "source": [
    "import math\n",
    "\n",
    "def calc_pi(difference: float) -> None:\n",
    "    pi: float = 0.0\n",
    "    iterations: int = 0\n",
    "\n",
    "    while abs(pi - math.pi) > difference:\n",
    "        pi = pi + (-1)**iterations * 4 / (2 * iterations + 1)\n",
    "        iterations += 1\n",
    "\n",
    "    print(iterations)\n",
    "\n",
    "\n",
    "calc_pi(0.01)"
   ],
   "id": "9545811111c2c4f4",
   "outputs": [
    {
     "name": "stdout",
     "output_type": "stream",
     "text": [
      "100\n"
     ]
    }
   ],
   "execution_count": 29
  }
 ],
 "metadata": {
  "kernelspec": {
   "display_name": "Python 3",
   "language": "python",
   "name": "python3"
  },
  "language_info": {
   "codemirror_mode": {
    "name": "ipython",
    "version": 2
   },
   "file_extension": ".py",
   "mimetype": "text/x-python",
   "name": "python",
   "nbconvert_exporter": "python",
   "pygments_lexer": "ipython2",
   "version": "2.7.6"
  }
 },
 "nbformat": 4,
 "nbformat_minor": 5
}
