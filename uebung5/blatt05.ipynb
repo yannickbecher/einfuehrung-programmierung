{
 "cells": [
  {
   "metadata": {},
   "cell_type": "markdown",
   "source": "__Aufgabe 1__ (Bestimmung der Laufzeitkomplexitat)<br/>",
   "id": "33d455d837422287"
  },
  {
   "metadata": {},
   "cell_type": "markdown",
   "source": "---",
   "id": "f344efc9a837e9ad"
  },
  {
   "metadata": {},
   "cell_type": "markdown",
   "source": "__Aufgabe 2__ (Foobarsort)<br/>",
   "id": "1bc6dec00215b67"
  },
  {
   "cell_type": "code",
   "id": "initial_id",
   "metadata": {
    "collapsed": true,
    "ExecuteTime": {
     "end_time": "2025-02-10T08:06:59.874890Z",
     "start_time": "2025-02-10T08:06:59.855419Z"
    }
   },
   "source": [
    "def foobar(lin: list[int], index: int) -> list[int]:\n",
    "    for i in range(1, index):\n",
    "        prev = lin[i-1]\n",
    "        curr = lin[i]\n",
    "        if prev > curr:\n",
    "            lin[i-1] = curr\n",
    "            lin[i] = prev\n",
    "    return lin\n",
    "\n",
    "foobar([12, 6, 18], 2)"
   ],
   "outputs": [
    {
     "data": {
      "text/plain": [
       "[6, 12, 18]"
      ]
     },
     "execution_count": 5,
     "metadata": {},
     "output_type": "execute_result"
    }
   ],
   "execution_count": 5
  },
  {
   "metadata": {
    "ExecuteTime": {
     "end_time": "2025-02-09T19:17:15.600026Z",
     "start_time": "2025-02-09T19:17:15.583910Z"
    }
   },
   "cell_type": "code",
   "source": [
    "def foobar_sort(l_unsortiert: list[int]) -> list[int]:\n",
    "    for i in range(len(l_unsortiert), 0, -1):\n",
    "        l_unsortiert: list[int] = foobar(l_unsortiert, i)\n",
    "    return l_unsortiert\n",
    "\n",
    "foobar_sort([1,4,5,4,3,78,9])"
   ],
   "id": "46c5f02928b32f28",
   "outputs": [
    {
     "data": {
      "text/plain": [
       "[1, 3, 4, 4, 5, 9, 78]"
      ]
     },
     "execution_count": 2,
     "metadata": {},
     "output_type": "execute_result"
    }
   ],
   "execution_count": 2
  },
  {
   "metadata": {},
   "cell_type": "markdown",
   "source": "---",
   "id": "8170727951b5abb5"
  },
  {
   "metadata": {},
   "cell_type": "markdown",
   "source": "__Aufgabe 3__ (Radixsort-Light)<br/>",
   "id": "7960f206e7e2e2d"
  },
  {
   "metadata": {},
   "cell_type": "markdown",
   "source": [
    "3a) Implementieren Sie eine Funktion `create_buckets(numb)`, die eine zweidimensionale Liste anlegt. Jedes Element\n",
    "dieser Liste entspricht einem Bucket – einer weiteren Liste, die Zahlen aufnehmen kann. Der\n",
    "Parameter numb gibt die Anzahl der Buckets an."
   ],
   "id": "2a1f9281f14d4903"
  },
  {
   "metadata": {},
   "cell_type": "code",
   "outputs": [],
   "execution_count": null,
   "source": [
    "def create_buckets(numb: int) -> [[]]:\n",
    "    return [[] for _ in range(numb)]"
   ],
   "id": "5091090f6250e35a"
  },
  {
   "metadata": {},
   "cell_type": "markdown",
   "source": "3b)",
   "id": "4e2e63a5bc94d42e"
  },
  {
   "metadata": {},
   "cell_type": "code",
   "outputs": [],
   "execution_count": null,
   "source": [
    "def add_to_bucket(buckets: [[]], vals, n: int) :\n",
    "    for val in vals:\n",
    "        index: int = val % n\n",
    "        buckets[index].append(val)\n",
    "    return buckets"
   ],
   "id": "ffa6ccd100dca944"
  },
  {
   "metadata": {},
   "cell_type": "markdown",
   "source": "3c)",
   "id": "a327fcef87ad3273"
  },
  {
   "metadata": {},
   "cell_type": "code",
   "outputs": [],
   "execution_count": null,
   "source": [
    "def good_bucket_count(unsorted: list[int]) -> int:\n",
    "    return max(1, len(unsorted) // 5)"
   ],
   "id": "14bf3f20a038d44f"
  },
  {
   "metadata": {},
   "cell_type": "markdown",
   "source": "3d)",
   "id": "d368330f257c65ef"
  },
  {
   "metadata": {},
   "cell_type": "code",
   "outputs": [],
   "execution_count": null,
   "source": [
    "def flatten(buckets):\n",
    "    sorted_list = []\n",
    "    for bucket in buckets:\n",
    "        sorted_list.extend(sorted(bucket))\n",
    "    return sorted_list"
   ],
   "id": "724123c406e41760"
  },
  {
   "metadata": {},
   "cell_type": "markdown",
   "source": "3e)",
   "id": "39cda70feb387e76"
  },
  {
   "metadata": {
    "ExecuteTime": {
     "end_time": "2025-02-10T08:17:28.956701Z",
     "start_time": "2025-02-10T08:17:28.933040Z"
    }
   },
   "cell_type": "code",
   "source": [
    "def radix_light(unsorted: list[int]) -> list[int]:\n",
    "    n: int = good_bucket_count(unsorted)\n",
    "    buckets: [[]] = create_buckets(n)\n",
    "    buckets = add_to_bucket(buckets, unsorted, n)\n",
    "    return sorted(flatten(buckets))\n",
    "\n",
    "test_list: list[int] = [29, 10, 14, 37, 13, 23, 7, 5, 20, 31]\n",
    "radix_light(test_list)\n"
   ],
   "id": "3b929825efe256dc",
   "outputs": [
    {
     "data": {
      "text/plain": [
       "[5, 7, 10, 13, 14, 20, 23, 29, 31, 37]"
      ]
     },
     "execution_count": 6,
     "metadata": {},
     "output_type": "execute_result"
    }
   ],
   "execution_count": 6
  }
 ],
 "metadata": {
  "kernelspec": {
   "display_name": "Python 3",
   "language": "python",
   "name": "python3"
  },
  "language_info": {
   "codemirror_mode": {
    "name": "ipython",
    "version": 2
   },
   "file_extension": ".py",
   "mimetype": "text/x-python",
   "name": "python",
   "nbconvert_exporter": "python",
   "pygments_lexer": "ipython2",
   "version": "2.7.6"
  }
 },
 "nbformat": 4,
 "nbformat_minor": 5
}
