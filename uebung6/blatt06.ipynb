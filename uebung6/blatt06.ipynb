{
 "cells": [
  {
   "metadata": {},
   "cell_type": "markdown",
   "source": [
    "__Aufgabe 1__ (Ausnahmen / Exceptions)<br/>\n",
    "Mit Exceptions konnen Ausnahmesituationen, wie bei der Ausf ¨ uhrung von Programmen auftretende Fehler, be- ¨\n",
    "handelt werden."
   ],
   "id": "4e2e21afc38b53db"
  },
  {
   "metadata": {},
   "cell_type": "markdown",
   "source": [
    "1a) _Ausnahmen behandeln / Catching Exceptions_: Wie in der Vorlesung gezeigt, können Operationen wie das\n",
    "Teilen durch Null, Exceptions auslösen. Erweitern Sie die gegebene Funktion, bei der unter Umständen durch\n",
    "Null geteilt wird, um eine allgemeine Ausnahmebehandlung, die jegliche Fehler abfängt und die Art des Fehlers ausgibt.\n",
    "Die Art der Ausnahme können Sie über `print(\"Exception: \", sys.exc_info()[0])` ausgeben.\n"
   ],
   "id": "1e841d3140678382"
  },
  {
   "metadata": {
    "ExecuteTime": {
     "end_time": "2025-02-19T08:36:48.569600Z",
     "start_time": "2025-02-19T08:36:48.542935Z"
    }
   },
   "cell_type": "code",
   "source": [
    "import sys\n",
    "from random import randint\n",
    "\n",
    "def kehrwerte() -> None:\n",
    "    rlist: list[int] = [randint(0, i) for i in range(1, 10)]\n",
    "\n",
    "    for v in rlist:\n",
    "        print(\"Aktueller Wert: \", v)\n",
    "\n",
    "        try:\n",
    "            r: float = 1/v\n",
    "            print(\"Der Kehrwert von\", v, \"ist\", r)\n",
    "        except:\n",
    "            print(\"Exception: \", sys.exc_info()[0])\n",
    "\n",
    "kehrwerte()"
   ],
   "id": "5152e1a7666a9dd1",
   "outputs": [
    {
     "name": "stdout",
     "output_type": "stream",
     "text": [
      "Aktueller Wert:  1\n",
      "Der Kehrwert von 1 ist 1.0\n",
      "Aktueller Wert:  2\n",
      "Der Kehrwert von 2 ist 0.5\n",
      "Aktueller Wert:  3\n",
      "Der Kehrwert von 3 ist 0.3333333333333333\n",
      "Aktueller Wert:  2\n",
      "Der Kehrwert von 2 ist 0.5\n",
      "Aktueller Wert:  0\n",
      "Exception:  <class 'ZeroDivisionError'>\n",
      "Aktueller Wert:  5\n",
      "Der Kehrwert von 5 ist 0.2\n",
      "Aktueller Wert:  3\n",
      "Der Kehrwert von 3 ist 0.3333333333333333\n",
      "Aktueller Wert:  4\n",
      "Der Kehrwert von 4 ist 0.25\n",
      "Aktueller Wert:  1\n",
      "Der Kehrwert von 1 ist 1.0\n"
     ]
    }
   ],
   "execution_count": 6
  },
  {
   "metadata": {},
   "cell_type": "markdown",
   "source": [
    "1b) _Behandlung von speziellen Ausnahmen_: Die folgende Funktion enthalt mehrere Stellen, an denen Fehler auftreten\n",
    "können. Finden Sie zunächst raus, wie die einzelnen Ausnahmen heißen und fangen Sie die Ausnahmen dann gezielt ab."
   ],
   "id": "5eef7428956e8d0b"
  },
  {
   "cell_type": "code",
   "id": "initial_id",
   "metadata": {
    "collapsed": true,
    "ExecuteTime": {
     "end_time": "2025-02-19T08:36:48.825475Z",
     "start_time": "2025-02-19T08:36:48.810571Z"
    }
   },
   "source": [
    "def ausnahmen() -> None:\n",
    "    list1: list[int] = [i for i in range(0, 10)]\n",
    "\n",
    "    try:\n",
    "        print(\"Letztes Element:\", list1[10])\n",
    "    except:\n",
    "        print(\"Exception: \", sys.exc_info()[0])     # -> IndexError\n",
    "\n",
    "    try:\n",
    "        print(\"Divisionsergebnis\", list1[1] / list1[0])\n",
    "    except:\n",
    "        print(\"Exception: \", sys.exc_info()[0])     # -> ZeroDevisionError\n",
    "\n",
    "    try:\n",
    "        open(\"./aaaaaaaaaaaaaaaaaaaaaaaaaaaaaaaaaaaaaaaaaa\")\n",
    "    except:\n",
    "        print(\"Exception: \", sys.exc_info()[0])     # -> FileNotFoundError\n",
    "\n",
    "ausnahmen()"
   ],
   "outputs": [
    {
     "name": "stdout",
     "output_type": "stream",
     "text": [
      "Exception:  <class 'IndexError'>\n",
      "Exception:  <class 'ZeroDivisionError'>\n",
      "Exception:  <class 'FileNotFoundError'>\n"
     ]
    }
   ],
   "execution_count": 7
  },
  {
   "metadata": {
    "ExecuteTime": {
     "end_time": "2025-02-19T08:36:48.939838Z",
     "start_time": "2025-02-19T08:36:48.925939Z"
    }
   },
   "cell_type": "code",
   "source": [
    "def ausnahmen() -> None:\n",
    "    list1: list[int] = [i for i in range(0, 10)]\n",
    "\n",
    "    try:\n",
    "        print(\"Letztes Element:\", list1[10])\n",
    "    except IndexError as e:\n",
    "        print(\"Exception: \", e)\n",
    "\n",
    "    try:\n",
    "        print(\"Divisionsergebnis\", list1[1] / list1[0])\n",
    "    except ZeroDivisionError as e:\n",
    "        print(\"Exception: \", e)\n",
    "\n",
    "    try:\n",
    "        open(\"./aaaaaaaaaaaaaaaaaaaaaaaaaaaaaaaaaaaaaaaaaa\")\n",
    "    except FileNotFoundError as e:\n",
    "        print(\"Exception: \", e)\n",
    "\n",
    "ausnahmen()"
   ],
   "id": "cc282a0e6885ee92",
   "outputs": [
    {
     "name": "stdout",
     "output_type": "stream",
     "text": [
      "Exception:  list index out of range\n",
      "Exception:  division by zero\n",
      "Exception:  [Errno 2] No such file or directory: './aaaaaaaaaaaaaaaaaaaaaaaaaaaaaaaaaaaaaaaaaa'\n"
     ]
    }
   ],
   "execution_count": 8
  },
  {
   "metadata": {},
   "cell_type": "markdown",
   "source": [
    "1c) _Ausnahmen auslösen / Raising Exceptions_: Implementieren Sie eine Funktion, die den Mittelwert einer Liste\n",
    "von Zahlen berechnet. Im Falle einer leeren Liste sollen Sie eine Ausnahme auslösen, die darauf hinweist, dass\n",
    "die Liste nicht leer sein darf."
   ],
   "id": "3c841b3da8485c11"
  },
  {
   "metadata": {
    "ExecuteTime": {
     "end_time": "2025-02-19T08:36:49.064987Z",
     "start_time": "2025-02-19T08:36:49.003640Z"
    }
   },
   "cell_type": "code",
   "source": [
    "def mean(lst: list[int | float]) -> float:\n",
    "    \"\"\"\n",
    "    Calculates the arithmetic mean of a list of numbers.\n",
    "\n",
    "    Args:\n",
    "        lst: A list containing numeric values (either integers or floats)\n",
    "\n",
    "    Returns:\n",
    "        float: The arithmetic mean of all elements in the list\n",
    "\n",
    "    Raises:\n",
    "        ValueError: If the input list is empty\n",
    "    \"\"\"\n",
    "    if len(lst) == 0:\n",
    "        raise ValueError(\"Cannot compute mean of empty list\")\n",
    "\n",
    "    return sum(lst) / len(lst)\n",
    "\n",
    "print(mean([1, 4.3, 3.58, 5]))\n",
    "print(mean([]))"
   ],
   "id": "99fdac6401341872",
   "outputs": [
    {
     "name": "stdout",
     "output_type": "stream",
     "text": [
      "3.4699999999999998\n"
     ]
    },
    {
     "ename": "ValueError",
     "evalue": "Cannot compute mean of empty list",
     "output_type": "error",
     "traceback": [
      "\u001B[1;31m---------------------------------------------------------------------------\u001B[0m",
      "\u001B[1;31mValueError\u001B[0m                                Traceback (most recent call last)",
      "Cell \u001B[1;32mIn[9], line 20\u001B[0m\n\u001B[0;32m     17\u001B[0m     \u001B[38;5;28;01mreturn\u001B[39;00m \u001B[38;5;28msum\u001B[39m(lst) \u001B[38;5;241m/\u001B[39m \u001B[38;5;28mlen\u001B[39m(lst)\n\u001B[0;32m     19\u001B[0m \u001B[38;5;28mprint\u001B[39m(mean([\u001B[38;5;241m1\u001B[39m, \u001B[38;5;241m4.3\u001B[39m, \u001B[38;5;241m3.58\u001B[39m, \u001B[38;5;241m5\u001B[39m]))\n\u001B[1;32m---> 20\u001B[0m \u001B[38;5;28mprint\u001B[39m(mean([]))\n",
      "Cell \u001B[1;32mIn[9], line 15\u001B[0m, in \u001B[0;36mmean\u001B[1;34m(lst)\u001B[0m\n\u001B[0;32m      2\u001B[0m \u001B[38;5;250m\u001B[39m\u001B[38;5;124;03m\"\"\"\u001B[39;00m\n\u001B[0;32m      3\u001B[0m \u001B[38;5;124;03mCalculates the arithmetic mean of a list of numbers.\u001B[39;00m\n\u001B[0;32m      4\u001B[0m \n\u001B[1;32m   (...)\u001B[0m\n\u001B[0;32m     12\u001B[0m \u001B[38;5;124;03m    ValueError: If the input list is empty\u001B[39;00m\n\u001B[0;32m     13\u001B[0m \u001B[38;5;124;03m\"\"\"\u001B[39;00m\n\u001B[0;32m     14\u001B[0m \u001B[38;5;28;01mif\u001B[39;00m \u001B[38;5;28mlen\u001B[39m(lst) \u001B[38;5;241m==\u001B[39m \u001B[38;5;241m0\u001B[39m:\n\u001B[1;32m---> 15\u001B[0m     \u001B[38;5;28;01mraise\u001B[39;00m \u001B[38;5;167;01mValueError\u001B[39;00m(\u001B[38;5;124m\"\u001B[39m\u001B[38;5;124mCannot compute mean of empty list\u001B[39m\u001B[38;5;124m\"\u001B[39m)\n\u001B[0;32m     17\u001B[0m \u001B[38;5;28;01mreturn\u001B[39;00m \u001B[38;5;28msum\u001B[39m(lst) \u001B[38;5;241m/\u001B[39m \u001B[38;5;28mlen\u001B[39m(lst)\n",
      "\u001B[1;31mValueError\u001B[0m: Cannot compute mean of empty list"
     ]
    }
   ],
   "execution_count": 9
  },
  {
   "metadata": {},
   "cell_type": "markdown",
   "source": [
    "1d) _try ... else_: Rufen Sie Ihre Mittelwertfunktion aus der vorherigen Teilaufgabe in einem try/except-Block\n",
    "auf. Benutzen Sie einen else-Zweig um bei erfolgreichem Aufruf der Mittelwertfunktion das Ergebnis auszugeben"
   ],
   "id": "d2b280109405df61"
  },
  {
   "metadata": {
    "ExecuteTime": {
     "end_time": "2025-02-19T08:37:09.598853Z",
     "start_time": "2025-02-19T08:37:09.587776Z"
    }
   },
   "cell_type": "code",
   "source": [
    "list2: list[int | float] = [1, 4.3, 3.58, 5]\n",
    "\n",
    "try:\n",
    "    mean_value: float = mean(list2)\n",
    "except ValueError as e:\n",
    "    print(\"Exception: \", e)\n",
    "else:\n",
    "    print(mean_value)"
   ],
   "id": "c89296f511aea667",
   "outputs": [
    {
     "name": "stdout",
     "output_type": "stream",
     "text": [
      "3.4699999999999998\n"
     ]
    }
   ],
   "execution_count": 10
  },
  {
   "metadata": {},
   "cell_type": "markdown",
   "source": [
    "1e) _try ... finally_: Fügen Sie zu dem Code aus der vorhergehenden Teilaufgabe einen finally-Zweig hinzu, in\n",
    "dem Sie den Text ”Beenden” ausgeben."
   ],
   "id": "ef960f5267ca6f53"
  },
  {
   "metadata": {
    "ExecuteTime": {
     "end_time": "2025-02-19T08:36:49.258461500Z",
     "start_time": "2025-02-16T12:09:26.915328Z"
    }
   },
   "cell_type": "code",
   "source": [
    "try:\n",
    "    mean_value: float = mean(list2)\n",
    "except ValueError as e:\n",
    "    print(\"Exception: \", e)\n",
    "else:\n",
    "    print(mean_value)\n",
    "finally:\n",
    "    print(\"Beenden\")"
   ],
   "id": "dcf16cfb56ea9996",
   "outputs": [
    {
     "name": "stdout",
     "output_type": "stream",
     "text": [
      "3.4699999999999998\n",
      "Beenden\n"
     ]
    }
   ],
   "execution_count": 8
  },
  {
   "metadata": {},
   "cell_type": "markdown",
   "source": "---",
   "id": "a4833ac1946389c8"
  }
 ],
 "metadata": {
  "kernelspec": {
   "display_name": "Python 3",
   "language": "python",
   "name": "python3"
  },
  "language_info": {
   "codemirror_mode": {
    "name": "ipython",
    "version": 2
   },
   "file_extension": ".py",
   "mimetype": "text/x-python",
   "name": "python",
   "nbconvert_exporter": "python",
   "pygments_lexer": "ipython2",
   "version": "2.7.6"
  }
 },
 "nbformat": 4,
 "nbformat_minor": 5
}
