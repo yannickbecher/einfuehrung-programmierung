{
 "cells": [
  {
   "metadata": {},
   "cell_type": "markdown",
   "source": [
    "__Aufgabe 1 (Einstieg in rekursive Funktionen)__<br/>\n",
    "Implementieren Sie die folgenden Funktionen ausschließlich auf Basis der gegebenen Funktionen sowie die in den\n",
    "folgenden Unteraufgaben erstellen Funktionen. Verwenden Sie keine Schleifen (z.B. `while` oder `for`), sondern\n",
    "ausschließlich rekursive Aufrufe."
   ],
   "id": "9607f2b3a0122f3f"
  },
  {
   "metadata": {},
   "cell_type": "markdown",
   "source": [
    "1a) Implementieren Sie eine Countdown-Funktion. Die Funktion soll von einem gegebenen Startwert bis 0 herunter\n",
    "zählen (d.h. den aktuellen Zählerwert per `print` ausgeben)."
   ],
   "id": "b678d4dc1f513457"
  },
  {
   "cell_type": "code",
   "id": "initial_id",
   "metadata": {
    "collapsed": true,
    "ExecuteTime": {
     "end_time": "2025-02-25T18:03:41.695540Z",
     "start_time": "2025-02-25T18:03:31.659427Z"
    }
   },
   "source": [
    "import time\n",
    "\n",
    "def countdown(seconds: int) -> None:\n",
    "    # Stop countdown when reaching 0\n",
    "    if seconds <= 0:\n",
    "        print(\"Stopping\")\n",
    "        return None\n",
    "\n",
    "    # Print current number and wait, then continue countdown\n",
    "    print(seconds, end=\" \")\n",
    "    time.sleep(1)\n",
    "    countdown(seconds - 1)\n",
    "\n",
    "\n",
    "countdown(10)"
   ],
   "outputs": [
    {
     "name": "stdout",
     "output_type": "stream",
     "text": [
      "10 9 8 7 6 5 4 3 2 1 Stopping\n"
     ]
    }
   ],
   "execution_count": 42
  },
  {
   "metadata": {},
   "cell_type": "markdown",
   "source": "1b) Implementieren Sie eine Funktion zur Berechnung der Quersumme (Ziffernsumme) einer positiven Zahl. Wandeln Sie die Eingabe nicht in einen String oder eine Liste um.",
   "id": "72af89936051b4a"
  },
  {
   "metadata": {
    "ExecuteTime": {
     "end_time": "2025-02-25T18:03:41.757017Z",
     "start_time": "2025-02-25T18:03:41.735103Z"
    }
   },
   "cell_type": "code",
   "source": [
    "def digit_sum(n: int) -> int:\n",
    "    # Base case: non-positive numbers have sum of 0\n",
    "    if n <= 0:\n",
    "        return 0\n",
    "\n",
    "    # Recursive case: add last digit (n % 10) to sum of remaining digits (n // 10)\n",
    "    return n % 10 + digit_sum(n // 10)\n",
    "\n",
    "\n",
    "digit_sum(1234)"
   ],
   "id": "a8665dd40fd39085",
   "outputs": [
    {
     "data": {
      "text/plain": [
       "10"
      ]
     },
     "execution_count": 43,
     "metadata": {},
     "output_type": "execute_result"
    }
   ],
   "execution_count": 43
  },
  {
   "metadata": {},
   "cell_type": "markdown",
   "source": [
    "1c) Gegeben seien die folgenden Funktionen:\n",
    "```\n",
    "def inc(x):\n",
    "    return x+1\n",
    "\n",
    "def dec(x):\n",
    "    return x-1\n",
    "```\n",
    "Implementieren Sie die folgenden Funktionen ausschließlich auf Basis von end-rekursive Aufrufe (Tail recursion).\n",
    "Nehmen Sie an, dass alle Zahlen aus dem Raum der natürlichen Zahlen (d.h. >= 0) stammen."
   ],
   "id": "db70a5371ab1c701"
  },
  {
   "metadata": {
    "ExecuteTime": {
     "end_time": "2025-02-25T18:03:41.868538Z",
     "start_time": "2025-02-25T18:03:41.858991Z"
    }
   },
   "cell_type": "code",
   "source": [
    "def inc(x):\n",
    "    return x + 1\n",
    "\n",
    "def dec(x):\n",
    "    return x - 1"
   ],
   "id": "d5da52ab345666be",
   "outputs": [],
   "execution_count": 44
  },
  {
   "metadata": {},
   "cell_type": "markdown",
   "source": "- Addition zweier Zahlen (d.h. $x+y$)",
   "id": "b07bd17289606838"
  },
  {
   "metadata": {
    "ExecuteTime": {
     "end_time": "2025-02-25T18:03:41.900059Z",
     "start_time": "2025-02-25T18:03:41.888759Z"
    }
   },
   "cell_type": "code",
   "source": [
    "def add(x: int, y: int) -> int:\n",
    "    if y == 0:\n",
    "        return x\n",
    "    return add(inc(x), dec(y))\n",
    "\n",
    "\n",
    "print(f\"{add(5, 3)=}\")"
   ],
   "id": "b945085e5bedebe1",
   "outputs": [
    {
     "name": "stdout",
     "output_type": "stream",
     "text": [
      "add(5, 3)=8\n"
     ]
    }
   ],
   "execution_count": 45
  },
  {
   "metadata": {},
   "cell_type": "markdown",
   "source": "- Subtraktion zweier Zahlen (d.h. $x-y$)",
   "id": "3a55519f9e94c975"
  },
  {
   "metadata": {
    "ExecuteTime": {
     "end_time": "2025-02-25T18:03:41.993278Z",
     "start_time": "2025-02-25T18:03:41.980852Z"
    }
   },
   "cell_type": "code",
   "source": [
    "def subtract(x: int, y: int) -> int:\n",
    "    if y == 0:\n",
    "        return x\n",
    "    return subtract(dec(x), dec(y))\n",
    "\n",
    "\n",
    "print(f\"{subtract(10, 4)=}\")"
   ],
   "id": "e44f4431f1176c81",
   "outputs": [
    {
     "name": "stdout",
     "output_type": "stream",
     "text": [
      "subtract(10, 4)=6\n"
     ]
    }
   ],
   "execution_count": 46
  },
  {
   "metadata": {},
   "cell_type": "markdown",
   "source": "- Multiplikation zweier Zahlen (d.h. $x*y$)",
   "id": "4afa0e9f645c4fd4"
  },
  {
   "metadata": {
    "ExecuteTime": {
     "end_time": "2025-02-25T18:03:42.097700Z",
     "start_time": "2025-02-25T18:03:42.084778Z"
    }
   },
   "cell_type": "code",
   "source": [
    "def multiply(x: int, y: int) -> int:\n",
    "    if y == 0:\n",
    "        return 0\n",
    "    return add(multiply(x, dec(y)), x)\n",
    "\n",
    "\n",
    "print(f\"{multiply(6, 7)=}\")"
   ],
   "id": "8f22c373c15184ff",
   "outputs": [
    {
     "name": "stdout",
     "output_type": "stream",
     "text": [
      "multiply(6, 7)=42\n"
     ]
    }
   ],
   "execution_count": 47
  },
  {
   "metadata": {},
   "cell_type": "markdown",
   "source": "- Ganzzahl-Division zweier Zahlen (d.h. $x//y$)",
   "id": "c585f129033ad408"
  },
  {
   "metadata": {
    "ExecuteTime": {
     "end_time": "2025-02-25T18:03:42.157211Z",
     "start_time": "2025-02-25T18:03:42.142172Z"
    }
   },
   "cell_type": "code",
   "source": [
    "def integer_division(x: int, y: int) -> int:\n",
    "    if y == 0:\n",
    "        raise ZeroDivisionError(\"Division durch Null nicht möglich\")\n",
    "    if x < y:\n",
    "        return 0\n",
    "\n",
    "    temp: int = integer_division(subtract(x, y), y)\n",
    "    return inc(temp)\n",
    "\n",
    "\n",
    "print(f\"{integer_division(15, 3)=}\")"
   ],
   "id": "b169b1d3883ef0bf",
   "outputs": [
    {
     "name": "stdout",
     "output_type": "stream",
     "text": [
      "integer_division(15, 3)=5\n"
     ]
    }
   ],
   "execution_count": 48
  },
  {
   "metadata": {},
   "cell_type": "markdown",
   "source": "- Potenzrechnung (d.h. $x^y$)",
   "id": "126a3ecd6dc8c583"
  },
  {
   "metadata": {
    "ExecuteTime": {
     "end_time": "2025-02-25T18:03:42.235915Z",
     "start_time": "2025-02-25T18:03:42.222982Z"
    }
   },
   "cell_type": "code",
   "source": [
    "def power(x: int, y: int) -> int:\n",
    "    if y == 0:\n",
    "        return 1\n",
    "\n",
    "    temp: int = power(x, dec(y))\n",
    "    return multiply(temp, x)\n",
    "\n",
    "\n",
    "print(f\"{power(2, 3)=}\")"
   ],
   "id": "4f74992328f71a09",
   "outputs": [
    {
     "name": "stdout",
     "output_type": "stream",
     "text": [
      "power(2, 3)=8\n"
     ]
    }
   ],
   "execution_count": 49
  },
  {
   "metadata": {},
   "cell_type": "markdown",
   "source": "- Modulo-Funktion (d.h. $x\\%y$)",
   "id": "2ff240894ce4a15d"
  },
  {
   "metadata": {
    "ExecuteTime": {
     "end_time": "2025-02-25T18:03:42.301701Z",
     "start_time": "2025-02-25T18:03:42.287054Z"
    }
   },
   "cell_type": "code",
   "source": [
    "def modulo(x: int, y: int) -> int:\n",
    "    if y == 0:\n",
    "        raise ValueError(\"Modulo durch Null nicht möglich\")\n",
    "    if x < y:\n",
    "        return x\n",
    "\n",
    "    return modulo(subtract(x, y), y)\n",
    "\n",
    "\n",
    "print(f\"{modulo(17, 5)=}\")"
   ],
   "id": "e9728b4ce6b9c8e4",
   "outputs": [
    {
     "name": "stdout",
     "output_type": "stream",
     "text": [
      "modulo(17, 5)=2\n"
     ]
    }
   ],
   "execution_count": 50
  },
  {
   "metadata": {},
   "cell_type": "markdown",
   "source": "1d) Implementieren Sie die folgenden mathematischen Reihen (?!) und Ausdrücke durch rekursive Funktionen in Python.",
   "id": "d7cb84cc9222a185"
  },
  {
   "metadata": {},
   "cell_type": "markdown",
   "source": "- $\\text{fac}(n)=\\begin{cases}1,&n=0\\\\n \\cdot \\text{fac}(n-1),&n>0\\end{cases}$",
   "id": "51d290bf39579d"
  },
  {
   "metadata": {
    "ExecuteTime": {
     "end_time": "2025-02-25T18:03:42.390196Z",
     "start_time": "2025-02-25T18:03:42.376947Z"
    }
   },
   "cell_type": "code",
   "source": [
    "def fac(n: int) -> int:\n",
    "    if n < 0:\n",
    "        raise ValueError(\"Fakultät für negative Zahlen nicht definiert\")\n",
    "    if n == 0:\n",
    "        return 1\n",
    "    return n * fac(n - 1)\n",
    "\n",
    "\n",
    "fac(4)"
   ],
   "id": "5f3db3c545c7a162",
   "outputs": [
    {
     "data": {
      "text/plain": [
       "24"
      ]
     },
     "execution_count": 51,
     "metadata": {},
     "output_type": "execute_result"
    }
   ],
   "execution_count": 51
  },
  {
   "metadata": {},
   "cell_type": "markdown",
   "source": "- $\\sum_{i=0}^{n} \\frac{1}{i!}$ (Partialsumme der Exponentialreihe)",
   "id": "c8bbb8f1a0033ef6"
  },
  {
   "metadata": {
    "ExecuteTime": {
     "end_time": "2025-02-25T18:03:42.873966Z",
     "start_time": "2025-02-25T18:03:42.472293Z"
    }
   },
   "cell_type": "code",
   "source": [
    "def partial_exp_taylor(n: int) -> float:\n",
    "    if n < 0:\n",
    "        return 0\n",
    "\n",
    "    return 1/fac(n) + partial_exp_taylor(n - 1)\n",
    "\n",
    "\n",
    "partial_exp_taylor(1000)"
   ],
   "id": "ab1b3339cf49429c",
   "outputs": [
    {
     "data": {
      "text/plain": [
       "2.7182818284590455"
      ]
     },
     "execution_count": 52,
     "metadata": {},
     "output_type": "execute_result"
    }
   ],
   "execution_count": 52
  },
  {
   "metadata": {},
   "cell_type": "markdown",
   "source": "- $4 \\sum_{i=0}^{n} \\frac{(-1)^i}{2i + 1}$ (Partialsumme der Leibnizreihe zur Approximation von $\\pi$)",
   "id": "3f4febb42e28d130"
  },
  {
   "metadata": {
    "ExecuteTime": {
     "end_time": "2025-02-25T18:03:42.946050Z",
     "start_time": "2025-02-25T18:03:42.929007Z"
    }
   },
   "cell_type": "code",
   "source": [
    "def leibniz(n: int) -> float:\n",
    "    if n == 0:\n",
    "        return 4 * (1 / 1)\n",
    "\n",
    "    return 4 * ((-1) ** n / (2 * n + 1)) + leibniz(n - 1)\n",
    "\n",
    "\n",
    "leibniz(1000)"
   ],
   "id": "cccf6049e95bfb53",
   "outputs": [
    {
     "data": {
      "text/plain": [
       "3.1425916543395442"
      ]
     },
     "execution_count": 53,
     "metadata": {},
     "output_type": "execute_result"
    }
   ],
   "execution_count": 53
  },
  {
   "metadata": {},
   "cell_type": "markdown",
   "source": "- $\\sum_{i=1}^n (-1)^{n+1} \\frac{(x-1)^i}{i}$ (Taylor-Reihe des natürlichen Logarithmus bei x=1)",
   "id": "e67cef74914fe087"
  },
  {
   "metadata": {
    "ExecuteTime": {
     "end_time": "2025-02-25T18:03:43.025681Z",
     "start_time": "2025-02-25T18:03:43.007165Z"
    }
   },
   "cell_type": "code",
   "source": [
    "def ln_taylor(n: int, x: float) -> float:\n",
    "    if n == 1:\n",
    "        return (x - 1) / 1\n",
    "\n",
    "    return (-1) ** (n + 1) * ((x - 1) ** n / n) + ln_taylor(n - 1, x)\n",
    "\n",
    "\n",
    "ln_taylor(1000, 1.2)"
   ],
   "id": "a450c3d08e4b6820",
   "outputs": [
    {
     "data": {
      "text/plain": [
       "0.18232155679395462"
      ]
     },
     "execution_count": 54,
     "metadata": {},
     "output_type": "execute_result"
    }
   ],
   "execution_count": 54
  },
  {
   "metadata": {},
   "cell_type": "markdown",
   "source": "Für große $x$ konvergiert die Reihe sehr langsam (d.h. $n$ muss groß gewählt werden)!",
   "id": "ad5df0475516dc70"
  },
  {
   "metadata": {},
   "cell_type": "markdown",
   "source": "---",
   "id": "dd64f9baebad552f"
  },
  {
   "metadata": {},
   "cell_type": "markdown",
   "source": [
    "__Aufgabe 2__ (Rekursive Funktionen für Listen)<br/>\n",
    "Implementieren Sie die folgenden Funktionen ausschließlich auf Basis der gegebenen Funktionen sowie die in den\n",
    "folgenden Unteraufgaben erstellen Funktionen. Verwenden Sie keine Schleifen (z.B. `while` oder `for`), sondern\n",
    "ausschließlich rekursive Aufrufe."
   ],
   "id": "f0658ae5d955e6e3"
  },
  {
   "metadata": {},
   "cell_type": "markdown",
   "source": [
    "2a) Implementieren Sie eine Funktion, die zählt, wie oft ein Element in einer Liste vorkommt. D.h. der Aufruf\n",
    "`count([1,2,3,2,5,7], 2)` soll 2 zurückgeben."
   ],
   "id": "785264e2803540f2"
  },
  {
   "metadata": {
    "ExecuteTime": {
     "end_time": "2025-02-25T18:03:43.103116Z",
     "start_time": "2025-02-25T18:03:43.090932Z"
    }
   },
   "cell_type": "code",
   "source": [
    "def count(lst: iter, element: object) -> int:\n",
    "    # Base case: empty list contains 0 occurrences\n",
    "    if not lst:\n",
    "        return 0\n",
    "\n",
    "    # Recursive case: count matches in rest of list plus 1\n",
    "    # if current element matches target (0 otherwise)\n",
    "    return (1 if lst[0] == element else 0) + count(lst[1:], element)\n",
    "\n",
    "\n",
    "print(f\"{count([1,2,3,2,5,7], 2)=}\")\n",
    "print(f\"{count('Hallo Welt!', 'l')=}\")"
   ],
   "id": "1611d4056257154c",
   "outputs": [
    {
     "name": "stdout",
     "output_type": "stream",
     "text": [
      "count([1,2,3,2,5,7], 2)=2\n",
      "count('Hallo Welt!', 'l')=3\n"
     ]
    }
   ],
   "execution_count": 55
  },
  {
   "metadata": {},
   "cell_type": "markdown",
   "source": [
    "2b) Implementieren Sie eine ”Rückwärts“-Funktion. Diese Funktion soll den übergebenen Text rückwärts zurückgeben.\n",
    "D.h. der Aufruf von `reverse(\"test\")` soll den String `\"tset\"` zurückgeben."
   ],
   "id": "4dd9521d65a9892f"
  },
  {
   "metadata": {
    "ExecuteTime": {
     "end_time": "2025-02-25T18:03:43.267843Z",
     "start_time": "2025-02-25T18:03:43.250813Z"
    }
   },
   "cell_type": "code",
   "source": [
    "def reverse(text: str) -> str:\n",
    "    # Base case: empty string is already reversed\n",
    "    if len(text) == 0:\n",
    "        return text\n",
    "\n",
    "    # Recursive case: build reversed string by prepending last char\n",
    "    # to the reversed remainder of the string\n",
    "    return text[-1] + reverse(text[:-1])\n",
    "\n",
    "\n",
    "reverse(\"test\")"
   ],
   "id": "42a0f28aac591fa7",
   "outputs": [
    {
     "data": {
      "text/plain": [
       "'tset'"
      ]
     },
     "execution_count": 56,
     "metadata": {},
     "output_type": "execute_result"
    }
   ],
   "execution_count": 56
  },
  {
   "metadata": {},
   "cell_type": "markdown",
   "source": [
    "2c) Implementieren Sie eine Funktion, die überprüft ob eine Zeichenkette ein Palindrom ist. Ein Palindrom ist eine\n",
    "Zeichenkette, die vorwarts und rückwärts gelesen gleich ist."
   ],
   "id": "9ff8a69ada81ce77"
  },
  {
   "metadata": {
    "ExecuteTime": {
     "end_time": "2025-02-25T18:03:43.393682Z",
     "start_time": "2025-02-25T18:03:43.377725Z"
    }
   },
   "cell_type": "code",
   "source": [
    "def is_palindrome(text: str) -> bool:\n",
    "    # Lowercase text and remove all whitespace\n",
    "    text: str = \"\".join(text.lower().split())\n",
    "\n",
    "    # Base case: strings of length 0 or 1 are palindromes\n",
    "    if len(text) <= 1:\n",
    "        return True\n",
    "\n",
    "    # Early exit: check first and last characters\n",
    "    if text[0] != text[-1]:\n",
    "        return False\n",
    "\n",
    "    # Recursive case: check substring excluding first and last chars\n",
    "    return is_palindrome(text[1:-1])\n",
    "\n",
    "\n",
    "is_palindrome(\"Dreh mal am Herd\")"
   ],
   "id": "4544a58bfe813ad1",
   "outputs": [
    {
     "data": {
      "text/plain": [
       "True"
      ]
     },
     "execution_count": 57,
     "metadata": {},
     "output_type": "execute_result"
    }
   ],
   "execution_count": 57
  },
  {
   "metadata": {},
   "cell_type": "markdown",
   "source": "---",
   "id": "c3693445fa83cf33"
  },
  {
   "metadata": {},
   "cell_type": "markdown",
   "source": [
    "__Aufgabe 3__ (Laufzeitkomplexität bei funktionaler Programmierung)<br/>\n",
    "Schatzen Sie die Laufzeitkomplexität der folgenden rekursiven Funktionen ein. Begründen Sie dabei ihre Einschätzung\n",
    "nachvollziehbar!"
   ],
   "id": "1e8e629353259d8a"
  },
  {
   "metadata": {},
   "cell_type": "markdown",
   "source": "3a)",
   "id": "16c1b707025ffeb0"
  },
  {
   "metadata": {
    "ExecuteTime": {
     "end_time": "2025-02-25T18:03:43.464491Z",
     "start_time": "2025-02-25T18:03:43.447025Z"
    }
   },
   "cell_type": "code",
   "source": [
    "def some_function(lst):\n",
    "    # O(1) - Basisfall: Konstante Zeit für leere Liste\n",
    "    if len(lst) < 1:\n",
    "        return []\n",
    "\n",
    "    else:\n",
    "        # O(1) - Kopfelement abtrennen\n",
    "        head, *tail = lst\n",
    "\n",
    "        # O(n) - Partitionierung in zwei Listen\n",
    "        # - Erste Liste: O(n) - Durchlauf für Elemente <= head\n",
    "        # - Zweite Liste: O(n) - Durchlauf für Elemente > head\n",
    "        # Gesamt: O(n) + O(n) = O(2n) = O(n)\n",
    "        l = [x for x in tail if x <= head]\n",
    "        g = [x for x in tail if x > head]\n",
    "\n",
    "        # Rekursive Aufrufe:\n",
    "        # - some_function(l): O(|l| log |l|) - Sortierung der kleineren Liste\n",
    "        # - some_function(g): O(|g| log |g|) - Sortierung der größeren Liste\n",
    "        # - Kombination: O(n) - Zusammenfügen der Listen\n",
    "        # Gesamt: O(|l| log |l|) + O(|g| log |g|) + O(n)\n",
    "        return some_function(l) + [head] + some_function(g)\n",
    "\n",
    "# Gesamt:\n",
    "# Average case: O(n log n)\n",
    "# - Bei ausbalancierter Partitionierung\n",
    "# - |l| ≈ |g| ≈ n/2\n",
    "# - Rekursionstiefe: log n\n",
    "# - Bei jeder Ebene: O(n) Vergleiche\n",
    "\n",
    "# Worst case: O(n²)\n",
    "# - Tritt auf bei:\n",
    "#   - Bereits sortierter Liste (aufsteigend oder absteigend)\n",
    "#   - Oder bei umgekehrt sortierter Liste\n",
    "# - Berechnung:\n",
    "#   - Basisfall: O(1)\n",
    "#   - Kopfelement: O(1)\n",
    "#   - Partitionierung: O(n)\n",
    "#   - Rekursion: n + (n-1) + (n-2) + ... + 1 = n * (n+1)/2 = O(n²)"
   ],
   "id": "4958d9150c94b026",
   "outputs": [],
   "execution_count": 58
  },
  {
   "metadata": {},
   "cell_type": "markdown",
   "source": "b)",
   "id": "f1c7568f7e524a39"
  },
  {
   "metadata": {
    "ExecuteTime": {
     "end_time": "2025-02-25T18:03:43.499542Z",
     "start_time": "2025-02-25T18:03:43.487890Z"
    }
   },
   "cell_type": "code",
   "source": [
    "def some_function2(lst, x):\n",
    "    # O(1) - Basisfall: Konstante Zeit für leere Liste\n",
    "    if len(lst) < 1:\n",
    "        return False\n",
    "\n",
    "    else:\n",
    "        # O(1) - Kopfelement abtrennen\n",
    "        head, *tail = lst\n",
    "\n",
    "        # O(1) - Vergleich des Kopfelements mit x\n",
    "        if head == x:\n",
    "            return True\n",
    "\n",
    "        else:\n",
    "            # O(|tail|) - Rekursiver Aufruf mit Rest der Liste\n",
    "            # im Worst Case: |tail| = n-1\n",
    "            return some_function2(tail, x)\n",
    "\n",
    "# Gesamt:\n",
    "# Best case: O(1)\n",
    "# - Tritt auf, wenn x am Anfang der Liste steht\n",
    "# - Nur ein Vergleich nötig\n",
    "\n",
    "# Worst case: O(n)\n",
    "# - Tritt auf, wenn:\n",
    "#   - x nicht in der Liste ist\n",
    "#   - oder x am Ende der Liste steht\n",
    "# - Berechnung:\n",
    "#   - Basisfall: O(1)\n",
    "#   - Kopfelement: O(1)\n",
    "#   - Vergleich: O(1)\n",
    "#   - Rekursion: n mal O(1) = O(n)"
   ],
   "id": "14a65744954bf2b1",
   "outputs": [],
   "execution_count": 59
  }
 ],
 "metadata": {
  "kernelspec": {
   "display_name": "Python 3",
   "language": "python",
   "name": "python3"
  },
  "language_info": {
   "codemirror_mode": {
    "name": "ipython",
    "version": 2
   },
   "file_extension": ".py",
   "mimetype": "text/x-python",
   "name": "python",
   "nbconvert_exporter": "python",
   "pygments_lexer": "ipython2",
   "version": "2.7.6"
  }
 },
 "nbformat": 4,
 "nbformat_minor": 5
}
