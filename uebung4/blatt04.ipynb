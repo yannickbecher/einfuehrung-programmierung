{
 "cells": [
  {
   "metadata": {},
   "cell_type": "markdown",
   "source": [
    "__Aufgabe 1__ (Dictionaries – Morsecode)<br/>\n",
    "Mittels Dictionaries können einfache Key-Value-Datenstrukturen abgebildet werden. Im Gegensatz zu Listen und\n",
    "Arrays, bei denen ein Wert nur über die Position in der Datenstruktur identifiziert werden kann, werden in\n",
    "Dictionaries die Werte über einen eindeutigen Key identifiziert.\n",
    "Für diese Aufgabe wollen wir das Morsealphabet über ein Dictionary abbilden. Dabei ist der entsprechende Buchstabe jeweils der Key und die Morsecodedarstellung (als String von Punkten und Strichen) der Wert."
   ],
   "id": "4751a89ed8ce5b94"
  },
  {
   "metadata": {},
   "cell_type": "markdown",
   "source": "1a) Erstellen Sie für die Buchstaben A-Z ein Dictionary um die Morsezeichen abzubilden.",
   "id": "57e27206a351fe97"
  },
  {
   "cell_type": "code",
   "id": "initial_id",
   "metadata": {
    "collapsed": true,
    "ExecuteTime": {
     "end_time": "2025-02-03T11:27:33.310080Z",
     "start_time": "2025-02-03T11:27:33.291504Z"
    }
   },
   "source": [
    "MORSE_CODE = {\n",
    "    'A': \".-\", 'B': \"-...\", 'C': \"-.-.\", 'D': \"-..\", 'E': \".\", 'F': \"..-.\", 'G': \"--.\", 'H': \"....\", 'I': \"..\", 'J': \".---\", 'K': \"-.-\", 'L': \".-..\", 'M': \"--\", 'N': \"-.\", 'O': \"---\", 'P': \".--.\", 'Q': \"--.-\", 'R': \".-.\", 'S': \"...\", 'T': \"-\", 'U': \"..-\", 'V': \"...-\", 'W': \".--\", 'X': \"-..-\", 'Y': \"-.--\", 'Z': \"--..\", ' ': \"\"\n",
    "}\n",
    "\n",
    "EXTENDED_MORSE_CODE = {\n",
    "    '0': \"-----\", '1': \".----\", '2': \"..---\", '3': \"...--\", '4': \"....-\", '5': \".....\", '6': \"-....\", '7': \"--...\",'8': \"---..\", '9': \"----.\", 'Ä': \".-.-\", 'Ö': \"---.\", 'Ü': \"..--\", 'ß': '...--.', '.': \".-.-.-\", ',': \"--..--\", ':': \"---...\", ';': \"-.-.-.\", '?': \"..--..\", '!': \"_._.__\", '-': \"-....-\",'_': \"..--._\", '(': \"-.--.\",')': \"-.--.-\", '\\'': \".----.\", '=': \"-...-\", '+': \".-.-.\", '/': \"-..-.\", '@': \".--.-.\", '\"': \".-..-.\",\n",
    "}"
   ],
   "outputs": [],
   "execution_count": 15
  },
  {
   "metadata": {},
   "cell_type": "markdown",
   "source": [
    "1b) Entwickeln Sie eine Funktion, die mittels Ihres zuvor angelegtem Dictionaries aus einem String die entsprechende Sequenz an Morsecode erzeugt. Zwischen einzelnen Buchstaben soll jeweils ein einfaches Leerzeichen\n",
    "und zwischen Wörtern immer zwei Leerzeichen ausgegeben werden.\n",
    "Um zu Überprüfen, ob ein Element in einem Dictionary enthalten ist, können Sie den Ausdruck `x in dict.keys() == True` verwenden."
   ],
   "id": "8212e719bf508916"
  },
  {
   "metadata": {
    "ExecuteTime": {
     "end_time": "2025-02-03T11:27:55.568834Z",
     "start_time": "2025-02-03T11:27:55.557097Z"
    }
   },
   "cell_type": "code",
   "source": [
    "def morse_encrypt(msg: str, extended: bool = False) -> str:\n",
    "    if extended:\n",
    "        MORSE_CODE.update(EXTENDED_MORSE_CODE)\n",
    "\n",
    "    output: list[str] = []\n",
    "\n",
    "    for char in msg.upper():\n",
    "        if char not in MORSE_CODE.keys():\n",
    "            print(f\"{char} not found in Morse code.\")\n",
    "            continue\n",
    "\n",
    "        output.append(MORSE_CODE[char] + \" \")\n",
    "\n",
    "    return \"\".join(output).strip()\n",
    "\n",
    "morse_encrypt(\"Hallo, Welt!\", extended=True)"
   ],
   "id": "64701719d0fbf35b",
   "outputs": [
    {
     "data": {
      "text/plain": [
       "'.... .- .-.. .-.. --- --..--  .-- . .-.. - _._.__'"
      ]
     },
     "execution_count": 24,
     "metadata": {},
     "output_type": "execute_result"
    }
   ],
   "execution_count": 24
  },
  {
   "metadata": {},
   "cell_type": "markdown",
   "source": "---",
   "id": "d743d8be43acf64c"
  },
  {
   "metadata": {},
   "cell_type": "markdown",
   "source": "__Aufgabe 2__ (Funktionen mit variabler Parameterzahl (variadische Funktionen))<br/>",
   "id": "a76c78e6dc19078"
  },
  {
   "metadata": {},
   "cell_type": "markdown",
   "source": [
    "2a) Implementieren Sie zunächst eine Funktion `add_n`, die die Summe der Werte aller Elemente einer als Parameter\n",
    "übergebenen Liste berechnet. Eine ähnliche Funktion haben Sie in der Vorlesung mit variabler Parameterzahl kennen\n",
    "gelernt. Welche Version würden Sie an welcher Stelle verwenden?"
   ],
   "id": "fc0a624f74369879"
  },
  {
   "metadata": {
    "ExecuteTime": {
     "end_time": "2025-02-03T11:27:33.494190Z",
     "start_time": "2025-02-03T11:27:33.485631Z"
    }
   },
   "cell_type": "code",
   "source": [
    "def add_n(lst: list[float]) -> float:\n",
    "    return sum(lst)\n",
    "\n",
    "add_n([2,1,5.4, 34, 6.85])"
   ],
   "id": "eedd3bf7be66b5e0",
   "outputs": [
    {
     "data": {
      "text/plain": [
       "49.25"
      ]
     },
     "execution_count": 17,
     "metadata": {},
     "output_type": "execute_result"
    }
   ],
   "execution_count": 17
  },
  {
   "metadata": {},
   "cell_type": "markdown",
   "source": [
    "2b) Implementieren Sie eine Funktion `build_dict` mit variabler Parameterzahl, die die Parameter in ein\n",
    "Dictionary einfügt. Im Dictionary soll dabei jeweils der Key die Position des Parameters (angefangen bei 0)\n",
    "und der Value der Parameter sein.\n",
    "Beispielaufruf:\n",
    "```\n",
    "build_dict(1, \"Test\", True)\n",
    "> {0: 1, 1: 'Test', 2: True}\n",
    "```"
   ],
   "id": "ea099ec776e47a14"
  },
  {
   "metadata": {
    "ExecuteTime": {
     "end_time": "2025-02-03T11:27:33.590998Z",
     "start_time": "2025-02-03T11:27:33.578798Z"
    }
   },
   "cell_type": "code",
   "source": [
    "def build_dict(*values: object) -> dict[int, object]:\n",
    "    return {i: values[i] for i in range(len(values))}\n",
    "\n",
    "build_dict(1, \"Test\", True)"
   ],
   "id": "b0d476f0e8bd532",
   "outputs": [
    {
     "data": {
      "text/plain": [
       "{0: 1, 1: 'Test', 2: True}"
      ]
     },
     "execution_count": 18,
     "metadata": {},
     "output_type": "execute_result"
    }
   ],
   "execution_count": 18
  },
  {
   "metadata": {},
   "cell_type": "markdown",
   "source": [
    "2c) Implementieren Sie die gleiche Funktion wie in der vorherigen Teilaufgabe b), allerdings sollen diesmal\n",
    "die Parameter nicht einfach durchnummeriert werden, sondern entsprechend ihrer Parameternamen in das\n",
    "Dictionary eingefügt werden. Verwenden Sie dazu benannte variable Parameter (**kwargs).\n",
    "Beispielaufruf:\n",
    "```\n",
    "build_dict2(first=1, name=\"Test\", wahr=True)\n",
    "> {'first': 1, 'name': 'Test', 'wahr': True}\n",
    "```"
   ],
   "id": "db06c00f1aa4ee11"
  },
  {
   "metadata": {
    "ExecuteTime": {
     "end_time": "2025-02-03T11:27:33.676903Z",
     "start_time": "2025-02-03T11:27:33.664447Z"
    }
   },
   "cell_type": "code",
   "source": [
    "def build_dict2(**args: object) -> dict[str, object]:\n",
    "    return {f\"{key}\": args[key] for key in args}\n",
    "\n",
    "build_dict2(first=1, name=\"Test\", wahr=True)"
   ],
   "id": "9f84476c18854340",
   "outputs": [
    {
     "data": {
      "text/plain": [
       "{'first': 1, 'name': 'Test', 'wahr': True}"
      ]
     },
     "execution_count": 19,
     "metadata": {},
     "output_type": "execute_result"
    }
   ],
   "execution_count": 19
  },
  {
   "metadata": {},
   "cell_type": "markdown",
   "source": [
    "2d) Anwendungsbeispiele für `*args` und `**kwargs`.\n",
    "Ein schon bekanntes Beispiel für eine Funktion, die eine variable Anzahl an Parametern entgegen nimmt ist\n",
    "`print`:\n",
    "```\n",
    "print(\"Hallo\", \"Welt\", 123, \"!\")\n",
    "> Hallo Welt 123 !\n",
    "```\n",
    "\n",
    "Suchen Sie in der Python Dokumentation nach weiteren Funktionen, die *args oder **kwargs entgegen\n",
    "nehmen: https://docs.python.org/3/library/index.html\n"
   ],
   "id": "37e29caad020640d"
  },
  {
   "metadata": {},
   "cell_type": "markdown",
   "source": [
    "1. Arithmetische und aggregierte Funktionen\n",
    "    - sum(*args)\n",
    "    - max(*args, key=None)\n",
    "    - min(*args, key=None)\n",
    "2. Typumwandlungsfunktionen\n",
    "    - tuple(*args)\n",
    "    - list(*args)\n",
    "    - set(*args)\n",
    "    - dict(**kwargs)\n",
    "    - str(*args)\n",
    "3.\n"
   ],
   "id": "f617ce49979fe782"
  },
  {
   "metadata": {},
   "cell_type": "markdown",
   "source": "---",
   "id": "1995d5b14b6f32c6"
  },
  {
   "metadata": {},
   "cell_type": "markdown",
   "source": "__Aufgabe 3__ (Dictionaries – Dateien – Wörter zählen)<br/>",
   "id": "ce1e0da1c6a98cf"
  },
  {
   "metadata": {},
   "cell_type": "markdown",
   "source": [
    "3a) Schreiben Sie eine Funktion `word_occurrences`, die für einen als Parameter gegebenen Text `text` die\n",
    "Vorkommen aller Wörter darin zählt. Geben Sie das Ergebnis in einem Dictionary zurück mit dem jeweils\n",
    "vorkommenden Wort als Schlüssel und der jeweils absoluten Häufigkeit als Wert (d. h. Wort → Häufigkeit)."
   ],
   "id": "a45da35d6d92eae8"
  },
  {
   "metadata": {
    "ExecuteTime": {
     "end_time": "2025-02-03T11:27:33.748751Z",
     "start_time": "2025-02-03T11:27:33.737807Z"
    }
   },
   "cell_type": "code",
   "source": [
    "import re\n",
    "\n",
    "def word_occurrences(text: str, special_characters: bool = False) -> dict[str, int]:\n",
    "    if not special_characters:\n",
    "        text = re.sub(r'[^a-zA-ZöäüÖÄÜß\\s]', '', text)\n",
    "\n",
    "    word_count: dict[str, int] = {}\n",
    "\n",
    "    for word in text.lower().split():\n",
    "        word_count[word] = word_count.get(word, 0) + 1\n",
    "\n",
    "    return word_count\n",
    "\n",
    "print(word_occurrences(\"Die Völker Europas sind entschlossen, auf der Grundlage gemeinsamer Werte eine friedliche Zukunft zu teilen, indem sie sich zu einer immer engeren Union verbinden.\"))"
   ],
   "id": "638e90947643e3a2",
   "outputs": [
    {
     "name": "stdout",
     "output_type": "stream",
     "text": [
      "{'die': 1, 'völker': 1, 'europas': 1, 'sind': 1, 'entschlossen': 1, 'auf': 1, 'der': 1, 'grundlage': 1, 'gemeinsamer': 1, 'werte': 1, 'eine': 1, 'friedliche': 1, 'zukunft': 1, 'zu': 2, 'teilen': 1, 'indem': 1, 'sie': 1, 'sich': 1, 'einer': 1, 'immer': 1, 'engeren': 1, 'union': 1, 'verbinden': 1}\n"
     ]
    }
   ],
   "execution_count": 20
  },
  {
   "metadata": {},
   "cell_type": "markdown",
   "source": [
    "3b) Damit der zu analysierende Text nicht per Hand im Code eingegeben werden muss, soll er aus einer Textdatei eingelesen werden. Verwenden Sie dazu das in der Vorlesung vorgestellte Schema um eine Datei mittels\n",
    "`with open` zu öffnen, den Inhalt zu lesen und über die Funktion `word_occurrences` die Häufigkeit der\n",
    "einzelnen Wörter zu bestimmen. Damit Sie die Funktion testen können, müssen Sie natürlich auch noch eine\n",
    "entsprechende Textdatei auf Ihrem System anlegen.\n"
   ],
   "id": "650447382cc24e48"
  },
  {
   "metadata": {
    "ExecuteTime": {
     "end_time": "2025-02-03T11:27:33.830175Z",
     "start_time": "2025-02-03T11:27:33.812711Z"
    }
   },
   "cell_type": "code",
   "source": [
    "file_path: str = \"./charta.txt\"\n",
    "occurrences: dict[str, int] = {}\n",
    "\n",
    "with open(file_path, \"r\", encoding=\"utf-8\") as file:\n",
    "    occurrences.update(word_occurrences(file.read()))\n",
    "\n",
    "print(occurrences)"
   ],
   "id": "febe104b8e212ded",
   "outputs": [
    {
     "name": "stdout",
     "output_type": "stream",
     "text": [
      "{'charta': 23, 'der': 179, 'grundrechte': 6, 'europäischen': 14, 'union': 46, 'c': 3, 'präambel': 1, 'titel': 14, 'i': 2, 'würde': 5, 'des': 48, 'menschen': 12, 'ii': 2, 'freiheiten': 8, 'iii': 2, 'gleichheit': 7, 'iv': 2, 'solidarität': 3, 'v': 2, 'bürgerrechte': 2, 'vi': 2, 'justizielle': 2, 'rechte': 18, 'vii': 2, 'allgemeine': 2, 'bestimmungen': 4, 'über': 10, 'die': 121, 'auslegung': 6, 'das': 54, 'europäische': 6, 'parlament': 4, 'rat': 1, 'und': 198, 'kommission': 1, 'proklamieren': 1, 'feierlich': 1, 'den': 66, 'nachstehenden': 1, 'text': 1, 'als': 9, 'völker': 2, 'europas': 2, 'sind': 15, 'entschlossen': 1, 'auf': 53, 'grundlage': 2, 'gemeinsamer': 1, 'werte': 3, 'eine': 21, 'friedliche': 1, 'zukunft': 1, 'zu': 55, 'teilen': 1, 'indem': 3, 'sie': 30, 'sich': 11, 'einer': 14, 'immer': 1, 'engeren': 1, 'verbinden': 1, 'in': 53, 'dem': 22, 'bewusstsein': 1, 'ihres': 3, 'geistigreligiösen': 1, 'sittlichen': 1, 'erbes': 1, 'gründet': 1, 'unteilbaren': 1, 'universellen': 1, 'freiheit': 15, 'beruht': 1, 'grundsätzen': 2, 'demokratie': 1, 'rechtsstaatlichkeit': 1, 'stellt': 3, 'mittelpunkt': 1, 'handelns': 1, 'unionsbürgerschaft': 1, 'einen': 9, 'raum': 1, 'sicherheit': 7, 'rechts': 4, 'begründet': 2, 'trägt': 1, 'zur': 16, 'erhaltung': 1, 'entwicklung': 4, 'dieser': 14, 'gemeinsamen': 4, 'unter': 15, 'achtung': 7, 'vielfalt': 3, 'kulturen': 3, 'traditionen': 1, 'sowie': 20, 'nationalen': 2, 'identität': 1, 'mitgliedstaaten': 12, 'organisation': 1, 'ihrer': 13, 'staatlichen': 1, 'gewalt': 1, 'nationaler': 1, 'regionaler': 1, 'lokaler': 1, 'ebene': 2, 'bei': 18, 'ist': 20, 'bestrebt': 1, 'ausgewogene': 1, 'nachhaltige': 1, 'fördern': 3, 'freien': 1, 'personen': 3, 'dienstleistungs': 1, 'waren': 1, 'kapitalverkehr': 1, 'niederlassungsfreiheit': 1, 'sicher': 2, 'diesem': 3, 'zweck': 1, 'es': 6, 'notwendig': 2, 'angesichts': 1, 'weiterentwicklung': 1, 'gesellschaft': 1, 'sozialen': 9, 'fortschritts': 1, 'wissenschaftlichen': 1, 'technologischen': 1, 'entwicklungen': 1, 'schutz': 18, 'stärken': 1, 'sichtbarer': 1, 'gemacht': 1, 'werden': 30, 'diese': 10, 'bekräftigt': 1, 'zuständigkeiten': 7, 'aufgaben': 3, 'subsidiaritätsprinzips': 2, 'vor': 8, 'allem': 1, 'aus': 11, 'verfassungstraditionen': 1, 'internationalen': 2, 'verpflichtungen': 1, 'konvention': 4, 'zum': 9, 'menschenrechte': 5, 'grundfreiheiten': 4, 'von': 22, 'europarat': 1, 'beschlossenen': 1, 'sozialchartas': 1, 'rechtsprechung': 1, 'gerichtshofs': 3, 'für': 17, 'ergeben': 2, 'zusammenhang': 2, 'erfolgt': 2, 'durch': 15, 'gerichte': 1, 'gebührender': 1, 'berücksichtigung': 1, 'erläuterungen': 2, 'leitung': 1, 'präsidiums': 2, 'konvents': 2, 'ausarbeitung': 1, 'formuliert': 1, 'verantwortung': 2, 'aktualisiert': 1, 'wurden': 2, 'ausübung': 9, 'mit': 17, 'pflichten': 1, 'sowohl': 1, 'gegenüber': 3, 'mitmenschen': 1, 'auch': 2, 'menschlichen': 2, 'gemeinschaft': 2, 'künftigen': 1, 'generationen': 1, 'verbunden': 1, 'daher': 1, 'erkennt': 1, 'nachstehend': 1, 'aufgeführten': 1, 'grundsätze': 6, 'an': 5, 'artikel': 56, 'unantastbar': 1, 'achten': 3, 'schützen': 1, 'recht': 58, 'leben': 5, 'jeder': 15, 'mensch': 7, 'hat': 25, 'niemand': 7, 'darf': 11, 'todesstrafe': 2, 'verurteilt': 4, 'oder': 53, 'hingerichtet': 1, 'unversehrtheit': 2, 'körperliche': 2, 'geistige': 2, 'im': 14, 'rahmen': 2, 'medizin': 1, 'biologie': 1, 'muss': 5, 'insbesondere': 6, 'folgendes': 1, 'beachtet': 1, 'a': 2, 'freie': 2, 'einwilligung': 2, 'betroffenen': 2, 'nach': 24, 'vorheriger': 1, 'aufklärung': 1, 'entsprechend': 3, 'gesetzlich': 4, 'festgelegten': 3, 'einzelheiten': 1, 'b': 2, 'verbot': 7, 'eugenischer': 1, 'praktiken': 1, 'derjenigen': 1, 'welche': 4, 'selektion': 1, 'ziel': 1, 'haben': 12, 'körper': 1, 'teile': 1, 'davon': 1, 'solche': 1, 'erzielung': 1, 'gewinnen': 1, 'nutzen': 2, 'd': 1, 'reproduktiven': 1, 'klonens': 1, 'folter': 3, 'unmenschlicher': 2, 'erniedrigender': 2, 'strafe': 6, 'behandlung': 3, 'unterworfen': 1, 'sklaverei': 2, 'zwangsarbeit': 1, 'leibeigenschaft': 1, 'gehalten': 1, 'gezwungen': 1, 'zwangs': 1, 'pflichtarbeit': 1, 'verrichten': 1, 'menschenhandel': 1, 'verboten': 4, 'privat': 3, 'familienlebens': 2, 'jede': 23, 'person': 23, 'wohnung': 2, 'kommunikation': 1, 'personenbezogener': 1, 'daten': 5, 'betreffenden': 6, 'personenbezogenen': 1, 'dürfen': 3, 'nur': 3, 'treu': 1, 'glauben': 1, 'festgelegte': 1, 'zwecke': 1, 'sonstigen': 7, 'geregelten': 1, 'legitimen': 1, 'verarbeitet': 1, 'auskunft': 1, 'erhobenen': 1, 'erhalten': 3, 'berichtigung': 1, 'erwirken': 1, 'einhaltung': 1, 'vorschriften': 2, 'wird': 16, 'unabhängigen': 2, 'stelle': 1, 'überwacht': 1, 'ehe': 2, 'einzugehen': 2, 'familie': 3, 'gründen': 5, 'einzelstaatlichen': 13, 'gesetzen': 3, 'gewährleistet': 5, 'regeln': 3, 'gedanken': 2, 'gewissens': 2, 'religionsfreiheit': 2, 'dieses': 6, 'umfasst': 4, 'religion': 3, 'weltanschauung': 3, 'wechseln': 1, 'seine': 1, 'einzeln': 1, 'gemeinsam': 2, 'anderen': 4, 'öffentlich': 2, 'gottesdienst': 1, 'unterricht': 2, 'bräuche': 1, 'riten': 1, 'bekennen': 1, 'wehrdienstverweigerung': 1, 'gewissensgründen': 1, 'anerkannt': 4, 'meinungsäußerung': 2, 'informationsfreiheit': 1, 'schließt': 2, 'meinungsfreiheit': 1, 'ein': 9, 'informationen': 1, 'ideen': 1, 'ohne': 2, 'behördliche': 1, 'eingriffe': 1, 'rücksicht': 1, 'staatsgrenzen': 1, 'empfangen': 1, 'weiterzugeben': 1, 'medien': 1, 'ihre': 14, 'pluralität': 1, 'geachtet': 3, 'versammlungs': 1, 'vereinigungsfreiheit': 1, 'politischen': 3, 'gewerkschaftlichen': 1, 'zivilgesellschaftlichen': 1, 'bereich': 1, 'allen': 5, 'ebenen': 3, 'frei': 6, 'friedlich': 1, 'versammeln': 1, 'zusammenzuschließen': 1, 'was': 1, 'interessen': 2, 'gewerkschaften': 2, 'beizutreten': 1, 'politische': 1, 'parteien': 1, 'tragen': 2, 'dazu': 1, 'willen': 1, 'unionsbürgerinnen': 10, 'unionsbürger': 10, 'ausdruck': 1, 'bringen': 2, 'kunst': 2, 'wissenschaft': 1, 'forschung': 1, 'akademische': 1, 'bildung': 2, 'zugang': 11, 'beruflichen': 2, 'ausbildung': 1, 'weiterbildung': 1, 'möglichkeit': 1, 'unentgeltlich': 1, 'am': 5, 'pflichtschulunterricht': 1, 'teilzunehmen': 1, 'gründung': 1, 'lehranstalten': 1, 'demokratischen': 1, 'eltern': 1, 'erziehung': 2, 'kinder': 3, 'ihren': 4, 'eigenen': 1, 'religiösen': 1, 'weltanschaulichen': 1, 'erzieherischen': 1, 'überzeugungen': 1, 'sicherzustellen': 2, 'berufsfreiheit': 1, 'arbeiten': 4, 'gewählten': 1, 'angenommenen': 1, 'beruf': 1, 'auszuüben': 2, 'alle': 3, 'jedem': 2, 'mitgliedstaat': 7, 'arbeit': 4, 'suchen': 1, 'niederzulassen': 1, 'dienstleistungen': 3, 'erbringen': 1, 'staatsangehörigen': 2, 'dritter': 1, 'länder': 1, 'hoheitsgebiet': 4, 'anspruch': 8, 'arbeitsbedingungen': 4, 'denen': 3, 'entsprechen': 3, 'unternehmerische': 2, 'unionsrecht': 5, 'rechtsvorschriften': 10, 'gepflogenheiten': 10, 'eigentumsrecht': 1, 'ihr': 3, 'rechtmäßig': 3, 'erworbenes': 1, 'eigentum': 3, 'besitzen': 4, 'darüber': 1, 'verfügen': 3, 'vererben': 1, 'niemandem': 1, 'sein': 5, 'entzogen': 1, 'sei': 2, 'denn': 2, 'öffentlichen': 1, 'interesses': 2, 'fällen': 3, 'bedingungen': 6, 'einem': 11, 'gesetz': 6, 'vorgesehen': 4, 'gegen': 1, 'rechtzeitige': 2, 'angemessene': 2, 'entschädigung': 1, 'verlust': 2, 'eigentums': 2, 'nutzung': 1, 'kann': 4, 'geregelt': 3, 'soweit': 4, 'dies': 3, 'wohl': 3, 'allgemeinheit': 1, 'erforderlich': 3, 'geistiges': 1, 'geschützt': 2, 'asylrecht': 1, 'asyl': 1, 'maßgabe': 7, 'genfer': 1, 'abkommens': 1, 'vom': 2, 'juli': 1, 'protokolls': 1, 'januar': 1, 'rechtsstellung': 1, 'flüchtlinge': 1, 'vertrags': 3, 'arbeitsweise': 1, 'folgenden': 1, 'verträge': 4, 'abschiebung': 1, 'ausweisung': 1, 'auslieferung': 1, 'kollektivausweisungen': 1, 'nicht': 12, 'zulässig': 1, 'staat': 2, 'abgeschoben': 1, 'ausgewiesen': 1, 'ausgeliefert': 1, 'ihn': 1, 'ernsthafte': 1, 'risiko': 1, 'unmenschlichen': 1, 'erniedrigenden': 1, 'besteht': 1, 'gleich': 1, 'nichtdiskriminierung': 1, 'diskriminierungen': 1, 'wegen': 5, 'geschlechts': 1, 'rasse': 1, 'hautfarbe': 1, 'ethnischen': 1, 'herkunft': 1, 'genetischen': 1, 'merkmale': 1, 'sprache': 2, 'anschauung': 1, 'zugehörigkeit': 1, 'minderheit': 1, 'vermögens': 1, 'geburt': 2, 'behinderung': 3, 'alters': 1, 'sexuellen': 1, 'ausrichtung': 1, 'unbeschadet': 2, 'besonderer': 1, 'ihrem': 4, 'anwendungsbereich': 3, 'diskriminierung': 1, 'staatsangehörigkeit': 2, 'religionen': 2, 'sprachen': 3, 'achtet': 6, 'frauen': 2, 'männern': 2, 'bereichen': 2, 'einschließlich': 2, 'beschäftigung': 1, 'arbeitsentgelts': 1, 'grundsatz': 2, 'steht': 3, 'beibehaltung': 1, 'einführung': 1, 'spezifischer': 1, 'vergünstigungen': 2, 'unterrepräsentierte': 1, 'geschlecht': 1, 'entgegen': 3, 'kindes': 3, 'fürsorge': 1, 'wohlergehen': 1, 'können': 4, 'meinung': 2, 'äußern': 1, 'angelegenheiten': 2, 'betreffen': 1, 'alter': 4, 'reifegrad': 1, 'entsprechenden': 1, 'weise': 1, 'berücksichtigt': 1, 'maßnahmen': 4, 'öffentlicher': 1, 'stellen': 6, 'privater': 1, 'einrichtungen': 6, 'vorrangige': 1, 'erwägung': 1, 'jedes': 1, 'kind': 1, 'regelmäßige': 1, 'persönliche': 1, 'beziehungen': 1, 'direkte': 1, 'kontakte': 1, 'beiden': 1, 'elternteilen': 1, 'seinem': 1, 'älterer': 2, 'anerkennt': 5, 'würdiges': 1, 'unabhängiges': 1, 'teilnahme': 2, 'kulturellen': 1, 'integration': 1, 'gewährleistung': 1, 'eigenständigkeit': 1, 'eingliederung': 1, 'unterrichtung': 2, 'anhörung': 2, 'arbeitnehmerinnen': 3, 'arbeitnehmer': 6, 'unternehmen': 1, 'vertreter': 1, 'geeigneten': 2, 'voraussetzungen': 1, 'kollektivverhandlungen': 1, 'kollektivmaßnahmen': 1, 'arbeitgeberinnen': 1, 'arbeitgeber': 1, 'jeweiligen': 4, 'organisationen': 1, 'tarifverträge': 1, 'auszuhandeln': 1, 'schließen': 1, 'interessenkonflikten': 1, 'kollektive': 1, 'verteidigung': 1, 'streiks': 1, 'ergreifen': 1, 'arbeitsvermittlungsdienst': 2, 'unentgeltlichen': 1, 'ungerechtfertigter': 2, 'entlassung': 3, 'arbeitnehmerin': 3, 'gerechte': 1, 'gesunde': 1, 'sichere': 1, 'würdige': 1, 'begrenzung': 1, 'höchstarbeitszeit': 1, 'tägliche': 1, 'wöchentliche': 1, 'ruhezeiten': 1, 'bezahlten': 2, 'jahresurlaub': 1, 'kinderarbeit': 2, 'jugendlichen': 1, 'arbeitsplatz': 1, 'günstigerer': 1, 'jugendliche': 2, 'abgesehen': 1, 'begrenzten': 1, 'ausnahmen': 1, 'mindestalter': 1, 'eintritt': 1, 'arbeitsleben': 1, 'schulpflicht': 1, 'endet': 1, 'unterschreiten': 1, 'zugelassene': 1, 'müssen': 2, 'angepasste': 1, 'wirtschaftlicher': 1, 'ausbeutung': 1, 'gesundheit': 1, 'sittliche': 1, 'soziale': 6, 'beeinträchtigen': 1, 'gefährden': 1, 'könnte': 1, 'familien': 2, 'berufsleben': 2, 'rechtliche': 1, 'wirtschaftliche': 1, 'um': 4, 'miteinander': 1, 'einklang': 3, 'mutterschaft': 2, 'zusammenhängenden': 1, 'grund': 1, 'mutterschaftsurlaub': 1, 'elternurlaub': 1, 'adoption': 1, 'eines': 4, 'unterstützung': 3, 'leistungen': 2, 'diensten': 1, 'wie': 8, 'krankheit': 1, 'arbeitsunfall': 1, 'pflegebedürftigkeit': 1, 'arbeitsplatzes': 1, 'gewährleisten': 2, 'unionsrechts': 3, 'seinen': 2, 'rechtmäßigen': 1, 'wohnsitz': 6, 'aufenthalt': 1, 'wechselt': 1, 'ausgrenzung': 1, 'armut': 1, 'bekämpfen': 1, 'ausreichende': 2, 'mittel': 2, 'menschenwürdiges': 1, 'dasein': 1, 'sicherstellen': 1, 'sollen': 1, 'gesundheitsschutz': 1, 'gesundheitsvorsorge': 1, 'ärztliche': 1, 'versorgung': 1, 'festlegung': 1, 'durchführung': 3, 'politik': 3, 'hohes': 3, 'gesundheitsschutzniveau': 1, 'sichergestellt': 2, 'allgemeinem': 2, 'wirtschaftlichen': 2, 'interesse': 2, 'er': 2, 'verträgen': 5, 'territorialen': 1, 'zusammenhalt': 1, 'umweltschutz': 1, 'umweltschutzniveau': 1, 'verbesserung': 1, 'umweltqualität': 1, 'einbezogen': 1, 'nachhaltigen': 1, 'verbraucherschutz': 1, 'verbraucherschutzniveau': 1, 'aktives': 2, 'passives': 2, 'wahlrecht': 4, 'wahlen': 2, 'aktive': 2, 'passive': 2, 'denselben': 3, 'angehörigen': 2, 'mitgliedstaats': 4, 'mitglieder': 1, 'parlaments': 1, 'allgemeiner': 1, 'unmittelbarer': 1, 'freier': 1, 'geheimer': 1, 'wahl': 1, 'gewählt': 1, 'kommunalwahlen': 2, 'gute': 1, 'verwaltung': 2, 'darauf': 4, 'dass': 5, 'organen': 1, 'unparteiisch': 1, 'gerecht': 1, 'innerhalb': 2, 'angemessenen': 1, 'frist': 2, 'behandelt': 1, 'gehört': 1, 'bevor': 1, 'nachteilige': 1, 'individuelle': 1, 'maßnahme': 1, 'getroffen': 1, 'akten': 1, 'wahrung': 3, 'berechtigten': 1, 'vertraulichkeit': 1, 'berufs': 1, 'geschäftsgeheimnisses': 1, 'verpflichtung': 1, 'entscheidungen': 2, 'begründen': 1, 'organe': 6, 'bediensteten': 1, 'amtstätigkeit': 1, 'verursachten': 1, 'schaden': 1, 'allgemeinen': 2, 'rechtsgrundsätzen': 1, 'ersetzt': 2, 'rechtsordnungen': 1, 'wenden': 1, 'antwort': 1, 'derselben': 2, 'dokumenten': 2, 'natürliche': 3, 'juristische': 3, 'satzungsmäßigem': 3, 'sitz': 3, 'unabhängig': 1, 'form': 1, 'dokumente': 1, 'verwendeten': 1, 'träger': 1, 'bürgerbeauftragte': 1, 'bürgerbeauftragten': 1, 'falle': 1, 'missständen': 1, 'tätigkeit': 2, 'ausnahme': 1, 'seiner': 2, 'rechtsprechungsbefugnisse': 1, 'befassen': 1, 'petitionsrecht': 1, 'petition': 1, 'richten': 1, 'freizügigkeit': 2, 'aufenthaltsfreiheit': 2, 'bewegen': 1, 'aufzuhalten': 1, 'drittländern': 1, 'aufhalten': 1, 'gewährt': 2, 'diplomatischer': 1, 'konsularischer': 1, 'genießen': 1, 'drittlands': 1, 'dessen': 1, 'vertreten': 2, 'diplomatischen': 1, 'konsularischen': 1, 'behörden': 1, 'jeden': 1, 'staatsangehörige': 1, 'staates': 1, 'wirksamen': 2, 'rechtsbehelf': 2, 'unparteiisches': 1, 'gericht': 4, 'deren': 3, 'garantierte': 1, 'verletzt': 1, 'worden': 2, 'vorgesehenen': 1, 'einzulegen': 1, 'sache': 1, 'unparteiischen': 1, 'zuvor': 1, 'errichteten': 1, 'fairen': 1, 'verfahren': 1, 'angemessener': 1, 'verhandelt': 1, 'beraten': 1, 'verteidigen': 1, 'lassen': 1, 'prozesskostenhilfe': 1, 'bewilligt': 1, 'hilfe': 1, 'gerichten': 2, 'wirksam': 1, 'unschuldsvermutung': 1, 'verteidigungsrechte': 2, 'angeklagte': 1, 'gilt': 2, 'bis': 1, 'rechtsförmlich': 1, 'erbrachten': 1, 'beweis': 1, 'schuld': 1, 'unschuldig': 1, 'angeklagten': 1, 'gesetzmäßigkeit': 1, 'verhältnismäßigkeit': 2, 'straftaten': 1, 'strafen': 1, 'handlung': 3, 'unterlassung': 2, 'zeit': 3, 'begehung': 4, 'innerstaatlichem': 1, 'internationalem': 1, 'strafbar': 2, 'war': 2, 'keine': 3, 'schwerere': 1, 'angedrohte': 1, 'verhängt': 1, 'straftat': 4, 'mildere': 1, 'eingeführt': 1, 'so': 2, 'verhängen': 1, 'bestraft': 3, 'gesamtheit': 1, 'nationen': 1, 'anerkannten': 5, 'strafmaß': 1, 'unverhältnismäßig': 1, 'zweimal': 1, 'strafrechtlich': 1, 'verfolgt': 2, 'derentwegen': 1, 'bereits': 1, 'rechtskräftig': 1, 'freigesprochen': 1, 'strafverfahren': 1, 'erneut': 1, 'anwendung': 2, 'ausschließlich': 1, 'dementsprechend': 1, 'halten': 1, 'grenzen': 2, 'übertragen': 1, 'dehnt': 1, 'geltungsbereich': 1, 'hinaus': 1, 'weder': 1, 'neue': 2, 'noch': 2, 'ändert': 1, 'tragweite': 2, 'einschränkung': 2, 'wesensgehalt': 1, 'grundsatzes': 1, 'einschränkungen': 1, 'vorgenommen': 1, 'wenn': 1, 'gemeinwohl': 1, 'dienenden': 1, 'zielsetzungen': 1, 'erfordernissen': 1, 'schutzes': 1, 'anderer': 1, 'tatsächlich': 1, 'enthält': 1, 'garantierten': 1, 'rechten': 1, 'gleiche': 1, 'bedeutung': 1, 'ihnen': 1, 'genannten': 1, 'verliehen': 1, 'bestimmung': 3, 'weiter': 1, 'gehenden': 1, 'verfassungsüberlieferungen': 1, 'diesen': 1, 'überlieferungen': 1, 'ausgelegt': 1, 'festgelegt': 1, 'akte': 3, 'gesetzgebung': 1, 'ausführung': 1, 'umgesetzt': 1, 'rechtmäßigkeit': 1, 'herangezogen': 1, 'bestimmt': 1, 'vollem': 1, 'umfang': 1, 'rechnung': 1, 'anleitung': 1, 'verfasst': 1, 'gebührend': 1, 'berücksichtigen': 1, 'schutzniveau': 1, 'verletzung': 1, 'auszulegen': 2, 'völkerrecht': 1, 'übereinkünfte': 1, 'vertragsparteien': 1, 'darunter': 1, 'verfassungen': 1, 'missbrauchs': 1, 'begründe': 1, 'vorzunehmen': 1, 'abzielt': 1, 'abzuschaffen': 1, 'stärker': 1, 'einzuschränken': 1, 'vorstehende': 1, 'wortlaut': 1, 'übernimmt': 1, 'anpassungen': 1, 'dezember': 1, 'proklamierte': 1, 'ab': 1, 'zeitpunkt': 1, 'inkrafttretens': 1, 'lissabon': 1}\n"
     ]
    }
   ],
   "execution_count": 21
  },
  {
   "metadata": {},
   "cell_type": "markdown",
   "source": [
    "3c) Schreiben Sie nun eine Funktion `reverse_count`, die auf Basis eines Dictionary wie es in der letzten\n",
    "Aufgabe zurückgegeben wird, eine vertauschte Verwendung von Schlüssel und Wert zurückgibt. Die Anzahl\n",
    "der Vorkommen eines Wortes in einem Text werden nun also als Schlüssel verwendet, der auf Wörter mit dieser\n",
    "Häufigkeit verweist. Da Wörter in einem Text potenziell gleich häufig vorkommen, müssen Sie die Werte als\n",
    "Listen mit diesen Wörtern behandeln (d.h. Häufigkeit → [Wort1, Wort2, . . . ])"
   ],
   "id": "f906027bd54a2248"
  },
  {
   "metadata": {
    "ExecuteTime": {
     "end_time": "2025-02-03T11:27:33.903161Z",
     "start_time": "2025-02-03T11:27:33.891853Z"
    }
   },
   "cell_type": "code",
   "source": [
    "def reverse_count(dictionary: dict[str, int]) -> dict[int, str | list[str]]:\n",
    "    counter: dict[int, str | list[str]] = {}\n",
    "\n",
    "    for word, count in dictionary.items():\n",
    "        if not count in counter.keys():\n",
    "            counter[count] = word\n",
    "            continue\n",
    "\n",
    "        if isinstance(counter[count], str):\n",
    "            counter[count] = [counter[count], word]\n",
    "            continue\n",
    "\n",
    "        counter[count].append(word)\n",
    "\n",
    "    return counter\n",
    "\n",
    "print(sorted(reverse_count(occurrences).items()))"
   ],
   "id": "c3b561f7b978c1d5",
   "outputs": [
    {
     "name": "stdout",
     "output_type": "stream",
     "text": [
      "[(1, ['präambel', 'rat', 'kommission', 'proklamieren', 'feierlich', 'nachstehenden', 'text', 'entschlossen', 'gemeinsamer', 'friedliche', 'zukunft', 'teilen', 'immer', 'engeren', 'verbinden', 'bewusstsein', 'geistigreligiösen', 'sittlichen', 'erbes', 'gründet', 'unteilbaren', 'universellen', 'beruht', 'demokratie', 'rechtsstaatlichkeit', 'mittelpunkt', 'handelns', 'unionsbürgerschaft', 'raum', 'trägt', 'erhaltung', 'traditionen', 'identität', 'organisation', 'staatlichen', 'gewalt', 'nationaler', 'regionaler', 'lokaler', 'bestrebt', 'ausgewogene', 'nachhaltige', 'freien', 'dienstleistungs', 'waren', 'kapitalverkehr', 'niederlassungsfreiheit', 'zweck', 'angesichts', 'weiterentwicklung', 'gesellschaft', 'fortschritts', 'wissenschaftlichen', 'technologischen', 'entwicklungen', 'stärken', 'sichtbarer', 'gemacht', 'bekräftigt', 'allem', 'verfassungstraditionen', 'verpflichtungen', 'europarat', 'beschlossenen', 'sozialchartas', 'rechtsprechung', 'gerichte', 'gebührender', 'berücksichtigung', 'leitung', 'ausarbeitung', 'formuliert', 'aktualisiert', 'pflichten', 'sowohl', 'mitmenschen', 'künftigen', 'generationen', 'verbunden', 'daher', 'erkennt', 'nachstehend', 'aufgeführten', 'unantastbar', 'schützen', 'hingerichtet', 'medizin', 'biologie', 'folgendes', 'beachtet', 'vorheriger', 'aufklärung', 'einzelheiten', 'eugenischer', 'praktiken', 'derjenigen', 'selektion', 'ziel', 'körper', 'teile', 'davon', 'solche', 'erzielung', 'gewinnen', 'd', 'reproduktiven', 'klonens', 'unterworfen', 'zwangsarbeit', 'leibeigenschaft', 'gehalten', 'gezwungen', 'zwangs', 'pflichtarbeit', 'verrichten', 'menschenhandel', 'kommunikation', 'personenbezogener', 'personenbezogenen', 'treu', 'glauben', 'festgelegte', 'zwecke', 'geregelten', 'legitimen', 'verarbeitet', 'auskunft', 'erhobenen', 'berichtigung', 'erwirken', 'einhaltung', 'stelle', 'überwacht', 'wechseln', 'seine', 'einzeln', 'gottesdienst', 'bräuche', 'riten', 'bekennen', 'wehrdienstverweigerung', 'gewissensgründen', 'informationsfreiheit', 'meinungsfreiheit', 'informationen', 'ideen', 'behördliche', 'eingriffe', 'rücksicht', 'staatsgrenzen', 'empfangen', 'weiterzugeben', 'medien', 'pluralität', 'versammlungs', 'vereinigungsfreiheit', 'gewerkschaftlichen', 'zivilgesellschaftlichen', 'bereich', 'friedlich', 'versammeln', 'zusammenzuschließen', 'was', 'beizutreten', 'politische', 'parteien', 'dazu', 'willen', 'ausdruck', 'wissenschaft', 'forschung', 'akademische', 'ausbildung', 'weiterbildung', 'möglichkeit', 'unentgeltlich', 'pflichtschulunterricht', 'teilzunehmen', 'gründung', 'lehranstalten', 'demokratischen', 'eltern', 'eigenen', 'religiösen', 'weltanschaulichen', 'erzieherischen', 'überzeugungen', 'berufsfreiheit', 'gewählten', 'angenommenen', 'beruf', 'suchen', 'niederzulassen', 'erbringen', 'dritter', 'länder', 'eigentumsrecht', 'erworbenes', 'darüber', 'vererben', 'niemandem', 'entzogen', 'öffentlichen', 'gegen', 'entschädigung', 'nutzung', 'allgemeinheit', 'geistiges', 'asylrecht', 'asyl', 'genfer', 'abkommens', 'juli', 'protokolls', 'januar', 'rechtsstellung', 'flüchtlinge', 'arbeitsweise', 'folgenden', 'abschiebung', 'ausweisung', 'auslieferung', 'kollektivausweisungen', 'zulässig', 'abgeschoben', 'ausgewiesen', 'ausgeliefert', 'ihn', 'ernsthafte', 'risiko', 'unmenschlichen', 'erniedrigenden', 'besteht', 'gleich', 'nichtdiskriminierung', 'diskriminierungen', 'geschlechts', 'rasse', 'hautfarbe', 'ethnischen', 'herkunft', 'genetischen', 'merkmale', 'anschauung', 'zugehörigkeit', 'minderheit', 'vermögens', 'alters', 'sexuellen', 'ausrichtung', 'besonderer', 'diskriminierung', 'beschäftigung', 'arbeitsentgelts', 'beibehaltung', 'einführung', 'spezifischer', 'unterrepräsentierte', 'geschlecht', 'fürsorge', 'wohlergehen', 'äußern', 'betreffen', 'reifegrad', 'entsprechenden', 'weise', 'berücksichtigt', 'öffentlicher', 'privater', 'vorrangige', 'erwägung', 'jedes', 'kind', 'regelmäßige', 'persönliche', 'beziehungen', 'direkte', 'kontakte', 'beiden', 'elternteilen', 'seinem', 'würdiges', 'unabhängiges', 'kulturellen', 'integration', 'gewährleistung', 'eigenständigkeit', 'eingliederung', 'unternehmen', 'vertreter', 'voraussetzungen', 'kollektivverhandlungen', 'kollektivmaßnahmen', 'arbeitgeberinnen', 'arbeitgeber', 'organisationen', 'tarifverträge', 'auszuhandeln', 'schließen', 'interessenkonflikten', 'kollektive', 'verteidigung', 'streiks', 'ergreifen', 'unentgeltlichen', 'gerechte', 'gesunde', 'sichere', 'würdige', 'begrenzung', 'höchstarbeitszeit', 'tägliche', 'wöchentliche', 'ruhezeiten', 'jahresurlaub', 'jugendlichen', 'arbeitsplatz', 'günstigerer', 'abgesehen', 'begrenzten', 'ausnahmen', 'mindestalter', 'eintritt', 'arbeitsleben', 'schulpflicht', 'endet', 'unterschreiten', 'zugelassene', 'angepasste', 'wirtschaftlicher', 'ausbeutung', 'gesundheit', 'sittliche', 'beeinträchtigen', 'gefährden', 'könnte', 'rechtliche', 'wirtschaftliche', 'miteinander', 'zusammenhängenden', 'grund', 'mutterschaftsurlaub', 'elternurlaub', 'adoption', 'diensten', 'krankheit', 'arbeitsunfall', 'pflegebedürftigkeit', 'arbeitsplatzes', 'rechtmäßigen', 'aufenthalt', 'wechselt', 'ausgrenzung', 'armut', 'bekämpfen', 'menschenwürdiges', 'dasein', 'sicherstellen', 'sollen', 'gesundheitsschutz', 'gesundheitsvorsorge', 'ärztliche', 'versorgung', 'festlegung', 'gesundheitsschutzniveau', 'territorialen', 'zusammenhalt', 'umweltschutz', 'umweltschutzniveau', 'verbesserung', 'umweltqualität', 'einbezogen', 'nachhaltigen', 'verbraucherschutz', 'verbraucherschutzniveau', 'mitglieder', 'parlaments', 'allgemeiner', 'unmittelbarer', 'freier', 'geheimer', 'wahl', 'gewählt', 'gute', 'organen', 'unparteiisch', 'gerecht', 'angemessenen', 'behandelt', 'gehört', 'bevor', 'nachteilige', 'individuelle', 'maßnahme', 'getroffen', 'akten', 'berechtigten', 'vertraulichkeit', 'berufs', 'geschäftsgeheimnisses', 'verpflichtung', 'begründen', 'bediensteten', 'amtstätigkeit', 'verursachten', 'schaden', 'rechtsgrundsätzen', 'rechtsordnungen', 'wenden', 'antwort', 'unabhängig', 'form', 'dokumente', 'verwendeten', 'träger', 'bürgerbeauftragte', 'bürgerbeauftragten', 'falle', 'missständen', 'ausnahme', 'rechtsprechungsbefugnisse', 'befassen', 'petitionsrecht', 'petition', 'richten', 'bewegen', 'aufzuhalten', 'drittländern', 'aufhalten', 'diplomatischer', 'konsularischer', 'genießen', 'drittlands', 'dessen', 'diplomatischen', 'konsularischen', 'behörden', 'jeden', 'staatsangehörige', 'staates', 'unparteiisches', 'garantierte', 'verletzt', 'vorgesehenen', 'einzulegen', 'sache', 'unparteiischen', 'zuvor', 'errichteten', 'fairen', 'verfahren', 'angemessener', 'verhandelt', 'beraten', 'verteidigen', 'lassen', 'prozesskostenhilfe', 'bewilligt', 'hilfe', 'wirksam', 'unschuldsvermutung', 'angeklagte', 'bis', 'rechtsförmlich', 'erbrachten', 'beweis', 'schuld', 'unschuldig', 'angeklagten', 'gesetzmäßigkeit', 'straftaten', 'strafen', 'innerstaatlichem', 'internationalem', 'schwerere', 'angedrohte', 'verhängt', 'mildere', 'eingeführt', 'verhängen', 'gesamtheit', 'nationen', 'strafmaß', 'unverhältnismäßig', 'zweimal', 'strafrechtlich', 'derentwegen', 'bereits', 'rechtskräftig', 'freigesprochen', 'strafverfahren', 'erneut', 'ausschließlich', 'dementsprechend', 'halten', 'übertragen', 'dehnt', 'geltungsbereich', 'hinaus', 'weder', 'ändert', 'wesensgehalt', 'grundsatzes', 'einschränkungen', 'vorgenommen', 'wenn', 'gemeinwohl', 'dienenden', 'zielsetzungen', 'erfordernissen', 'schutzes', 'anderer', 'tatsächlich', 'enthält', 'garantierten', 'rechten', 'gleiche', 'bedeutung', 'ihnen', 'genannten', 'verliehen', 'weiter', 'gehenden', 'verfassungsüberlieferungen', 'diesen', 'überlieferungen', 'ausgelegt', 'festgelegt', 'gesetzgebung', 'ausführung', 'umgesetzt', 'rechtmäßigkeit', 'herangezogen', 'bestimmt', 'vollem', 'umfang', 'rechnung', 'anleitung', 'verfasst', 'gebührend', 'berücksichtigen', 'schutzniveau', 'verletzung', 'völkerrecht', 'übereinkünfte', 'vertragsparteien', 'darunter', 'verfassungen', 'missbrauchs', 'begründe', 'vorzunehmen', 'abzielt', 'abzuschaffen', 'stärker', 'einzuschränken', 'vorstehende', 'wortlaut', 'übernimmt', 'anpassungen', 'dezember', 'proklamierte', 'ab', 'zeitpunkt', 'inkrafttretens', 'lissabon']), (2, ['i', 'ii', 'iii', 'iv', 'v', 'bürgerrechte', 'vi', 'justizielle', 'vii', 'allgemeine', 'völker', 'europas', 'grundlage', 'grundsätzen', 'begründet', 'nationalen', 'ebene', 'sicher', 'notwendig', 'subsidiaritätsprinzips', 'internationalen', 'ergeben', 'zusammenhang', 'erfolgt', 'erläuterungen', 'präsidiums', 'konvents', 'verantwortung', 'wurden', 'auch', 'menschlichen', 'gemeinschaft', 'todesstrafe', 'unversehrtheit', 'körperliche', 'geistige', 'rahmen', 'a', 'freie', 'einwilligung', 'betroffenen', 'b', 'nutzen', 'unmenschlicher', 'erniedrigender', 'sklaverei', 'familienlebens', 'wohnung', 'vorschriften', 'unabhängigen', 'ehe', 'einzugehen', 'gedanken', 'gewissens', 'religionsfreiheit', 'gemeinsam', 'öffentlich', 'unterricht', 'meinungsäußerung', 'schließt', 'ohne', 'interessen', 'gewerkschaften', 'tragen', 'bringen', 'kunst', 'bildung', 'beruflichen', 'erziehung', 'sicherzustellen', 'auszuüben', 'jedem', 'staatsangehörigen', 'unternehmerische', 'sei', 'denn', 'interesses', 'rechtzeitige', 'angemessene', 'verlust', 'eigentums', 'geschützt', 'vom', 'staat', 'sprache', 'geburt', 'unbeschadet', 'staatsangehörigkeit', 'religionen', 'frauen', 'männern', 'bereichen', 'einschließlich', 'grundsatz', 'vergünstigungen', 'meinung', 'angelegenheiten', 'älterer', 'teilnahme', 'unterrichtung', 'anhörung', 'geeigneten', 'arbeitsvermittlungsdienst', 'ungerechtfertigter', 'bezahlten', 'kinderarbeit', 'jugendliche', 'müssen', 'familien', 'berufsleben', 'mutterschaft', 'leistungen', 'gewährleisten', 'seinen', 'ausreichende', 'mittel', 'sichergestellt', 'allgemeinem', 'wirtschaftlichen', 'interesse', 'er', 'aktives', 'passives', 'wahlen', 'aktive', 'passive', 'angehörigen', 'kommunalwahlen', 'verwaltung', 'innerhalb', 'frist', 'entscheidungen', 'allgemeinen', 'ersetzt', 'derselben', 'dokumenten', 'tätigkeit', 'seiner', 'freizügigkeit', 'aufenthaltsfreiheit', 'gewährt', 'vertreten', 'wirksamen', 'rechtsbehelf', 'worden', 'gerichten', 'verteidigungsrechte', 'gilt', 'verhältnismäßigkeit', 'unterlassung', 'strafbar', 'war', 'so', 'verfolgt', 'anwendung', 'grenzen', 'neue', 'noch', 'tragweite', 'einschränkung', 'auszulegen']), (3, ['c', 'solidarität', 'werte', 'indem', 'ihres', 'stellt', 'vielfalt', 'kulturen', 'fördern', 'personen', 'diesem', 'aufgaben', 'gerichtshofs', 'gegenüber', 'achten', 'entsprechend', 'festgelegten', 'folter', 'behandlung', 'privat', 'dürfen', 'nur', 'erhalten', 'familie', 'gesetzen', 'regeln', 'religion', 'weltanschauung', 'geachtet', 'politischen', 'ebenen', 'kinder', 'alle', 'dienstleistungen', 'denen', 'entsprechen', 'ihr', 'rechtmäßig', 'eigentum', 'verfügen', 'fällen', 'geregelt', 'dies', 'wohl', 'erforderlich', 'vertrags', 'behinderung', 'anwendungsbereich', 'sprachen', 'steht', 'entgegen', 'kindes', 'arbeitnehmerinnen', 'entlassung', 'arbeitnehmerin', 'einklang', 'unterstützung', 'unionsrechts', 'durchführung', 'politik', 'hohes', 'denselben', 'wahrung', 'natürliche', 'juristische', 'satzungsmäßigem', 'sitz', 'deren', 'handlung', 'zeit', 'keine', 'bestraft', 'bestimmung', 'akte']), (4, ['bestimmungen', 'parlament', 'rechts', 'entwicklung', 'gemeinsamen', 'konvention', 'grundfreiheiten', 'verurteilt', 'gesetzlich', 'welche', 'verboten', 'umfasst', 'anderen', 'anerkannt', 'ihren', 'arbeiten', 'arbeit', 'hoheitsgebiet', 'arbeitsbedingungen', 'besitzen', 'vorgesehen', 'kann', 'soweit', 'verträge', 'ihrem', 'können', 'alter', 'maßnahmen', 'jeweiligen', 'um', 'eines', 'wahlrecht', 'mitgliedstaats', 'darauf', 'gericht', 'begehung', 'straftat']), (5, ['würde', 'menschenrechte', 'an', 'leben', 'muss', 'daten', 'gründen', 'gewährleistet', 'allen', 'am', 'unionsrecht', 'sein', 'wegen', 'anerkennt', 'verträgen', 'dass', 'anerkannten']), (6, ['grundrechte', 'auslegung', 'europäische', 'es', 'grundsätze', 'insbesondere', 'strafe', 'betreffenden', 'dieses', 'frei', 'bedingungen', 'gesetz', 'achtet', 'stellen', 'einrichtungen', 'arbeitnehmer', 'soziale', 'wohnsitz', 'organe']), (7, ['gleichheit', 'sicherheit', 'achtung', 'zuständigkeiten', 'mensch', 'niemand', 'verbot', 'sonstigen', 'mitgliedstaat', 'maßgabe']), (8, ['freiheiten', 'vor', 'anspruch', 'wie']), (9, ['als', 'einen', 'sozialen', 'zum', 'ausübung', 'ein']), (10, ['über', 'diese', 'unionsbürgerinnen', 'unionsbürger', 'rechtsvorschriften', 'gepflogenheiten']), (11, ['sich', 'aus', 'darf', 'zugang', 'einem']), (12, ['menschen', 'mitgliedstaaten', 'haben', 'nicht']), (13, ['ihrer', 'einzelstaatlichen']), (14, ['europäischen', 'titel', 'einer', 'dieser', 'im', 'ihre']), (15, ['sind', 'freiheit', 'unter', 'durch', 'jeder']), (16, ['zur', 'wird']), (17, ['für', 'mit']), (18, ['rechte', 'bei', 'schutz']), (20, ['sowie', 'ist']), (21, 'eine'), (22, ['dem', 'von']), (23, ['charta', 'jede', 'person']), (24, 'nach'), (25, 'hat'), (30, ['sie', 'werden']), (46, 'union'), (48, 'des'), (53, ['auf', 'in', 'oder']), (54, 'das'), (55, 'zu'), (56, 'artikel'), (58, 'recht'), (66, 'den'), (121, 'die'), (179, 'der'), (198, 'und')]\n"
     ]
    }
   ],
   "execution_count": 22
  },
  {
   "metadata": {},
   "cell_type": "markdown",
   "source": [
    "3d) Verwenden Sie `pickle` und `shelve` um die in Ihren Analysen gewonnenen Dictionaries in einer Datei\n",
    "zu speichern. Implementieren Sie dazu zwei Funktionen, die ein Dictionary und einen Dateinamen entgegen\n",
    "nehmen und das Dictionary in der entsprechenden Datei speichert.\n",
    "Speichern Sie mit beiden Funktionen das gleiche Dictionary und vergleichen Sie die resultierenden Dateien.\n",
    "Verifizieren Sie auch, dass Sie die gespeicherten Werte wieder laden können."
   ],
   "id": "d01ecf8bf1ed0872"
  },
  {
   "metadata": {
    "ExecuteTime": {
     "end_time": "2025-02-03T11:27:34.971831Z",
     "start_time": "2025-02-03T11:27:33.986229Z"
    }
   },
   "cell_type": "code",
   "source": [
    "import pickle\n",
    "import shelve\n",
    "import os\n",
    "\n",
    "def store_pickle(data: dict, file_name: str) -> None:\n",
    "    try:\n",
    "        with open(file_name, 'wb') as file:\n",
    "            pickle.dump(data, file)\n",
    "        print(f\"Data stored using pickle in {file_name}\")\n",
    "    except Exception as e:\n",
    "        print(f\"Error storing data with pickle: {e}\")\n",
    "\n",
    "def store_shelve(data: dict, file_name: str):\n",
    "    try:\n",
    "        shelf: shelve = shelve.open(file_name, flag='c', protocol=None, writeback=False)\n",
    "        for key, value in data.items():\n",
    "            shelf[key] = value\n",
    "        shelf.close()\n",
    "        print(f\"Data stored using shelve in {file_name}\")\n",
    "    except Exception as e:\n",
    "        print(f\"Error storing data with shelve: {e}\")\n",
    "\n",
    "# Store using pickle\n",
    "pickle_filename: str = 'occurrences_pkl'\n",
    "store_pickle(occurrences, pickle_filename)\n",
    "\n",
    "# Store using shelve\n",
    "shelve_filename: str = 'occurrences_shelve'\n",
    "store_shelve(occurrences, shelve_filename)\n",
    "\n",
    "# Compare file sizes\n",
    "pickle_size: int = os.path.getsize(pickle_filename)\n",
    "shelve_size: int= os.path.getsize(shelve_filename + \".dat\")\n",
    "print(f\"File size comparison:\\nPickle: {pickle_size} bytes\\nShelve: {shelve_size} bytes\")\n",
    "\n",
    "# Verify data loading\n",
    "try:\n",
    "    with open(pickle_filename, 'rb') as f:\n",
    "        loaded_pickle: pickle = pickle.load(f)\n",
    "\n",
    "    shelf: shelve = shelve.open(shelve_filename, flag='c', protocol=None, writeback=False)\n",
    "    loaded_shelf: dict = dict(shelf.items())\n",
    "    shelf.close()\n",
    "\n",
    "    print(\"Data loaded successfully using both methods.\")\n",
    "    assert loaded_pickle == occurrences, \"Pickle-loaded data doesn't match original\"\n",
    "    assert loaded_shelf == occurrences, \"Shelf-loaded data doesn't match original\"\n",
    "except Exception as e:\n",
    "    print(f\"Error loading data: {e}\")"
   ],
   "id": "c25b2ed5001fd833",
   "outputs": [
    {
     "name": "stdout",
     "output_type": "stream",
     "text": [
      "Data stored using pickle in occurrences_pkl\n",
      "Data stored using shelve in occurrences_shelve\n",
      "File size comparison:\n",
      "Pickle: 13980 bytes\n",
      "Shelve: 517637 bytes\n",
      "Data loaded successfully using both methods.\n",
      "Error loading data: Shelf-loaded data doesn't match original\n"
     ]
    }
   ],
   "execution_count": 23
  }
 ],
 "metadata": {
  "kernelspec": {
   "display_name": "Python 3",
   "language": "python",
   "name": "python3"
  },
  "language_info": {
   "codemirror_mode": {
    "name": "ipython",
    "version": 2
   },
   "file_extension": ".py",
   "mimetype": "text/x-python",
   "name": "python",
   "nbconvert_exporter": "python",
   "pygments_lexer": "ipython2",
   "version": "2.7.6"
  }
 },
 "nbformat": 4,
 "nbformat_minor": 5
}
